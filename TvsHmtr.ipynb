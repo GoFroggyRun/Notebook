{
 "cells": [
  {
   "cell_type": "code",
   "execution_count": 1,
   "metadata": {
    "collapsed": false
   },
   "outputs": [],
   "source": [
    "import pandas as pd\n",
    "import numpy as np \n",
    "import sys\n",
    "sys.path.append(\"../tax-calculator\")\n",
    "from taxcalc.records import Records\n",
    "from taxcalc import *\n",
    "from taxcalc.utils import *\n",
    "from numpy.testing import assert_array_almost_equal\n",
    "import copy\n",
    "from bokeh.models import (ColumnDataSource, LogAxis, LinearAxis, Rect, FactorRange,\n",
    "                          CategoricalAxis, Line, Text, Square, HoverTool)\n",
    "from bokeh.models import Plot, Range1d, ImageURL, DataRange1d, Select\n",
    "from bokeh.embed import components\n",
    "from bokeh.models import CustomJS, Slider\n",
    "from bokeh.io import curdoc\n",
    "from bokeh.plotting import figure, hplot, vplot, output_file, show\n",
    "from bokeh.layouts import row, widgetbox"
   ]
  },
  {
   "cell_type": "code",
   "execution_count": 2,
   "metadata": {
    "collapsed": false
   },
   "outputs": [
    {
     "name": "stdout",
     "output_type": "stream",
     "text": [
      "You loaded data for 2009.\n",
      "Your data have been extrapolated to 2013.\n",
      "You loaded data for 2009.\n",
      "Your data have been extrapolated to 2013.\n",
      "You loaded data for 2009.\n",
      "Your data have been extrapolated to 2013.\n"
     ]
    }
   ],
   "source": [
    "puf = pd.read_csv(\"../tax-calculator/puf.csv\")\n",
    "policy_base = Policy()\n",
    "records_base = Records(puf)\n",
    "consump = Consumption()\n",
    "\n",
    "policy_T = Policy()\n",
    "records_reform = Records(puf)\n",
    "consump_T = Consumption()\n",
    "\n",
    "policy_H = Policy()\n",
    "records_org = Records(puf)\n",
    "consump_H = Consumption()\n",
    "\n",
    "calcbase = Calculator(policy = policy_base, records = records_base,consumption=consump)\n",
    "calc_T = Calculator(policy = policy_T, records = records_reform,consumption=consump_T)\n",
    "calc_H = Calculator(policy = policy_H, records = records_org,consumption=consump_H)"
   ]
  },
  {
   "cell_type": "code",
   "execution_count": 3,
   "metadata": {
    "collapsed": true
   },
   "outputs": [],
   "source": [
    "reform_H= {\n",
    "    2017: {'_AGI_surtax_thd': [[5000000, 5000000, 5000000, 5000000, 5000000, 5000000]],\n",
    "           '_AGI_surtax_trt': [0.04],\n",
    "           '_FST_AGI_trt':[0.3],\n",
    "           '_ID_BenefitCap_rt': [0.28]\n",
    "        }}"
   ]
  },
  {
   "cell_type": "code",
   "execution_count": 4,
   "metadata": {
    "collapsed": true
   },
   "outputs": [],
   "source": [
    "reform_T = {\n",
    "    2017: {'_II_rt1': [0.12],\n",
    "           '_II_brk1': [[37500, 75000, 37500, 37500, 75000, 37500]],\n",
    "           '_II_rt2': [0.25],\n",
    "           '_II_brk2': [[112500, 225000, 112500, 112500, 225000, 112500]],\n",
    "           '_II_rt3': [0.25],\n",
    "           '_II_brk3': [[112500, 225000, 112500, 112500, 225000, 112500]],\n",
    "           '_II_rt4': [0.25],\n",
    "           '_II_brk4': [[112500, 225000, 112500, 112500, 225000, 112500]],\n",
    "           '_II_rt5': [0.25],\n",
    "           '_II_brk5': [[112500, 225000, 112500, 112500, 225000, 112500]],\n",
    "           '_II_rt6': [0.25],\n",
    "           '_II_brk6': [[112500, 225000, 112500, 112500, 225000, 112500]],\n",
    "           '_II_rt7': [0.33],\n",
    "           '_PT_rt1': [0.12],\n",
    "           '_PT_brk1': [[37500, 75000, 37500, 37500, 75000, 37500]],\n",
    "           '_PT_rt2': [0.25],\n",
    "           '_PT_brk2': [[112500, 225000, 112500, 112500, 225000, 112500]],\n",
    "           '_PT_rt3': [0.25],\n",
    "           '_PT_brk3': [[112500, 225000, 112500, 112500, 225000, 112500]],\n",
    "           '_PT_rt4': [0.25],\n",
    "           '_PT_brk4': [[112500, 225000, 112500, 112500, 225000, 112500]],\n",
    "           '_PT_rt5': [0.25],\n",
    "           '_PT_brk5': [[112500, 225000, 112500, 112500, 225000, 112500]],\n",
    "           '_PT_rt6': [0.25],\n",
    "           '_PT_brk6': [[112500, 225000, 112500, 112500, 225000, 112500]],\n",
    "           '_PT_rt7': [0.33],\n",
    "           '_CG_thd1': [[37500, 75000, 37500, 37500, 75000, 37500]],\n",
    "           '_CG_thd2': [[112500, 225000, 112500, 112500, 225000, 112500]],\n",
    "           '_AMT_CG_thd1': [[37500, 75000, 37500, 37500, 75000, 37500]],\n",
    "           '_AMT_CG_thd2': [[112500, 225000, 112500, 112500, 225000, 112500]],\n",
    "           '_AMT_trt1':[0],\n",
    "           '_AMT_trt2':[0],\n",
    "           '_NIIT_trt':[0],\n",
    "           '_STD': [[15000,30000,15000,15000,12600, 6300, 1050]],\n",
    "           '_II_em': [0],\n",
    "           '_ID_BenefitSurtax_crt': [0.0],\n",
    "           '_ID_BenefitSurtax_trt': [1.0],\n",
    "           '_ID_BenefitSurtax_em': [[100000, 200000, 100000, 100000, 200000, 100000]]\n",
    "        }}"
   ]
  },
  {
   "cell_type": "code",
   "execution_count": 5,
   "metadata": {
    "collapsed": true
   },
   "outputs": [],
   "source": [
    "# consumption_response = {2017: {'_MPC_e18400': [0.047]}}"
   ]
  },
  {
   "cell_type": "code",
   "execution_count": 6,
   "metadata": {
    "collapsed": false
   },
   "outputs": [],
   "source": [
    "policy_T.implement_reform(reform_T)\n",
    "policy_H.implement_reform(reform_H)\n",
    "# consump.update_consumption(consumption_response)\n",
    "# consump_T.update_consumption(consumption_response)\n",
    "# consump_H.update_consumption(consumption_response)\n",
    "calcbase.advance_to_year(2017)\n",
    "calc_T.advance_to_year(2017)\n",
    "calc_H.advance_to_year(2017)"
   ]
  },
  {
   "cell_type": "code",
   "execution_count": 7,
   "metadata": {
    "collapsed": true
   },
   "outputs": [],
   "source": [
    "calcbase.calc_all()\n",
    "calc_T.calc_all()\n",
    "calc_H.calc_all()"
   ]
  },
  {
   "cell_type": "code",
   "execution_count": 8,
   "metadata": {
    "collapsed": true
   },
   "outputs": [],
   "source": [
    "def source_data(data_1, data_2):\n",
    "    data_1.index = (data_1.reset_index()).index\n",
    "    data_2.index = (data_2.reset_index()).index\n",
    "    df = data_1\n",
    "    df['reform_2'] = data_2['reform']\n",
    "    return df"
   ]
  },
  {
   "cell_type": "code",
   "execution_count": 9,
   "metadata": {
    "collapsed": false
   },
   "outputs": [],
   "source": [
    "def make_plot(source):\n",
    "    plot = figure(plot_height=600, plot_width=800,\n",
    "                  tools=\"\")\n",
    "    plot.line('index','base',source = source, line_color=Blues4[0], line_width=2, line_alpha=1.2)\n",
    "    plot.line('index','reform',source = source, line_color=Greens4[0], line_width=2, line_alpha=.8)\n",
    "    plot.line('index','reform_2',source = source, line_color=Reds4[0], line_width=2, line_alpha=.8)\n",
    "    plot.yaxis.axis_label = 'Avg. MTR on Wage Income'\n",
    "    plot.xaxis.axis_label = 'Percentile of Adjusted Gross Income'\n",
    "    return plot"
   ]
  },
  {
   "cell_type": "code",
   "execution_count": 10,
   "metadata": {
    "collapsed": false
   },
   "outputs": [],
   "source": [
    "source1 =get_mtr_data(calcbase,calc_T,MARS = 1,weights = wage_weighted, income_measure = 'c00100', complex_weight = False)\n",
    "source2 =get_mtr_data(calcbase,calc_H,MARS = 1,weights = wage_weighted, income_measure = 'c00100', complex_weight = False)\n",
    "source = source_data(source1,source2)\n",
    "soourcedata = ColumnDataSource(data=dict(index=source.index, base=source['base'], reform=source['reform'], reform_2=source['reform_2']))\n",
    "plot = make_plot(soourcedata)"
   ]
  },
  {
   "cell_type": "code",
   "execution_count": 11,
   "metadata": {
    "collapsed": false
   },
   "outputs": [],
   "source": [
    "def source_datasource_data():\n",
    "    lst = list('abc')\n",
    "    k = 0\n",
    "    for i in (1,2,4):\n",
    "        source1 =get_mtr_data(calcbase,calc_T,MARS = i,weights = wage_weighted, income_measure = 'c00100', complex_weight = False)\n",
    "        source2 =get_mtr_data(calcbase,calc_H,MARS = i,weights = wage_weighted, income_measure = 'c00100', complex_weight = False)\n",
    "        source = ColumnDataSource(source_data(source1,source2))\n",
    "        lst[k] = source\n",
    "        k = k + 1\n",
    "    return lst"
   ]
  },
  {
   "cell_type": "code",
   "execution_count": 13,
   "metadata": {
    "collapsed": false
   },
   "outputs": [],
   "source": [
    "def update(attr, old, new):\n",
    "    string = MARS_Select.value\n",
    "    if string == 'Single':\n",
    "        id_ = 0\n",
    "    elif string == 'Joint':\n",
    "        id_ = 1\n",
    "    else:\n",
    "        id_ = 2\n",
    "    soourcedata.data.update(xxx[id_].data)\n",
    "    \n",
    "mars = 'Single'\n",
    "MARS_Select = Select(value=mars, title='MARS', options=['Single', 'Joint', 'Head of Household'])\n",
    "MARS_Select.on_change('value',update)"
   ]
  },
  {
   "cell_type": "code",
   "execution_count": 14,
   "metadata": {
    "collapsed": false
   },
   "outputs": [],
   "source": [
    "layout = row(\n",
    "    plot,\n",
    "    MARS_Select\n",
    ")\n",
    "show(layout)"
   ]
  },
  {
   "cell_type": "code",
   "execution_count": 12,
   "metadata": {
    "collapsed": false
   },
   "outputs": [],
   "source": [
    "xxx= source_datasource_data()"
   ]
  },
  {
   "cell_type": "code",
   "execution_count": 15,
   "metadata": {
    "collapsed": false
   },
   "outputs": [
    {
     "data": {
      "text/plain": [
       "RangeIndex(start=0, stop=100, step=1)"
      ]
     },
     "execution_count": 15,
     "metadata": {},
     "output_type": "execute_result"
    }
   ],
   "source": [
    "source.index"
   ]
  },
  {
   "cell_type": "code",
   "execution_count": 15,
   "metadata": {
    "collapsed": false
   },
   "outputs": [
    {
     "ename": "AttributeError",
     "evalue": "'DataFrame' object has no attribute 'data'",
     "output_type": "error",
     "traceback": [
      "\u001b[0;31m---------------------------------------------------------------------------\u001b[0m",
      "\u001b[0;31mAttributeError\u001b[0m                            Traceback (most recent call last)",
      "\u001b[0;32m<ipython-input-15-83f3fea43e55>\u001b[0m in \u001b[0;36m<module>\u001b[0;34m()\u001b[0m\n\u001b[0;32m----> 1\u001b[0;31m \u001b[0mxxx\u001b[0m\u001b[0;34m[\u001b[0m\u001b[0;36m1\u001b[0m\u001b[0;34m]\u001b[0m\u001b[0;34m.\u001b[0m\u001b[0mdata\u001b[0m\u001b[0;34m\u001b[0m\u001b[0m\n\u001b[0m",
      "\u001b[0;32m/Users/seanwang/anaconda2/envs/taxcalc-dev/lib/python3.5/site-packages/pandas/core/generic.py\u001b[0m in \u001b[0;36m__getattr__\u001b[0;34m(self, name)\u001b[0m\n\u001b[1;32m   2667\u001b[0m             \u001b[0;32mif\u001b[0m \u001b[0mname\u001b[0m \u001b[0;32min\u001b[0m \u001b[0mself\u001b[0m\u001b[0;34m.\u001b[0m\u001b[0m_info_axis\u001b[0m\u001b[0;34m:\u001b[0m\u001b[0;34m\u001b[0m\u001b[0m\n\u001b[1;32m   2668\u001b[0m                 \u001b[0;32mreturn\u001b[0m \u001b[0mself\u001b[0m\u001b[0;34m[\u001b[0m\u001b[0mname\u001b[0m\u001b[0;34m]\u001b[0m\u001b[0;34m\u001b[0m\u001b[0m\n\u001b[0;32m-> 2669\u001b[0;31m             \u001b[0;32mreturn\u001b[0m \u001b[0mobject\u001b[0m\u001b[0;34m.\u001b[0m\u001b[0m__getattribute__\u001b[0m\u001b[0;34m(\u001b[0m\u001b[0mself\u001b[0m\u001b[0;34m,\u001b[0m \u001b[0mname\u001b[0m\u001b[0;34m)\u001b[0m\u001b[0;34m\u001b[0m\u001b[0m\n\u001b[0m\u001b[1;32m   2670\u001b[0m \u001b[0;34m\u001b[0m\u001b[0m\n\u001b[1;32m   2671\u001b[0m     \u001b[0;32mdef\u001b[0m \u001b[0m__setattr__\u001b[0m\u001b[0;34m(\u001b[0m\u001b[0mself\u001b[0m\u001b[0;34m,\u001b[0m \u001b[0mname\u001b[0m\u001b[0;34m,\u001b[0m \u001b[0mvalue\u001b[0m\u001b[0;34m)\u001b[0m\u001b[0;34m:\u001b[0m\u001b[0;34m\u001b[0m\u001b[0m\n",
      "\u001b[0;31mAttributeError\u001b[0m: 'DataFrame' object has no attribute 'data'"
     ]
    }
   ],
   "source": [
    "xxx[1].data"
   ]
  },
  {
   "cell_type": "code",
   "execution_count": 8,
   "metadata": {
    "collapsed": true
   },
   "outputs": [],
   "source": [
    "source1 =get_mtr_data(calcbase,calc_T,MARS = 1,weights = wage_weighted, income_measure = 'c00100', complex_weight = False)"
   ]
  },
  {
   "cell_type": "code",
   "execution_count": 9,
   "metadata": {
    "collapsed": true
   },
   "outputs": [],
   "source": [
    "source2 =get_mtr_data(calcbase,calc_H,MARS = 1,weights = wage_weighted, income_measure = 'c00100', complex_weight = False)"
   ]
  },
  {
   "cell_type": "code",
   "execution_count": 10,
   "metadata": {
    "collapsed": false
   },
   "outputs": [
    {
     "name": "stderr",
     "output_type": "stream",
     "text": [
      "/Users/seanwang/anaconda2/envs/taxcalc-dev/lib/python3.5/site-packages/bokeh/util/deprecation.py:33: BokehDeprecationWarning: legend_spacing was deprecated in Bokeh 0.12.3 and will be removed, use Legend.spacing instead.\n",
      "  warn(message)\n",
      "/Users/seanwang/anaconda2/envs/taxcalc-dev/lib/python3.5/site-packages/bokeh/util/deprecation.py:33: BokehDeprecationWarning: legend_padding was deprecated in Bokeh 0.12.3 and will be removed, use Legend.padding instead.\n",
      "  warn(message)\n"
     ]
    }
   ],
   "source": [
    "PP = figure(plot_width=425, plot_height=250, title='Effect of Candidates\\' Proposals on MTR, Single Filers')\n",
    "\n",
    "PP.line((source1.reset_index()).index,\n",
    "            (source1.reset_index()).reform, line_color=Greens4[0], line_width=0.8,\n",
    "            line_alpha=1, legend=\"Trump\")\n",
    "PP.line((source2.reset_index()).index,\n",
    "            (source2.reset_index()).reform, line_color=Reds4[0], line_width=0.8,\n",
    "            line_alpha=1, legend=\"Hillary\")\n",
    "PP.line((source1.reset_index()).index,\n",
    "            (source1.reset_index()).base, line_color=Blues4[0], line_width=1,\n",
    "            line_alpha=1, legend=\"Base\")\n",
    "PP.legend.location = \"bottom_right\"\n",
    "PP.legend.label_text_font = \"times\"\n",
    "PP.legend.label_text_font_style = \"italic\"\n",
    "PP.legend.label_width = 2\n",
    "PP.legend.label_height = 2\n",
    "PP.legend.label_standoff = 2\n",
    "PP.legend.glyph_width = 14\n",
    "PP.legend.glyph_height = 14\n",
    "PP.legend.legend_spacing = 5\n",
    "PP.legend.legend_padding = 5\n",
    "PP.yaxis.axis_label = 'Avg. MTR on Wage Income'\n",
    "PP.xaxis.axis_label = 'Percentile of Adjusted Gross Income'"
   ]
  },
  {
   "cell_type": "code",
   "execution_count": 11,
   "metadata": {
    "collapsed": true
   },
   "outputs": [],
   "source": [
    "source1 =get_mtr_data(calcbase,calc_T,MARS = 2,weights = wage_weighted, income_measure = 'c00100', complex_weight = False)"
   ]
  },
  {
   "cell_type": "code",
   "execution_count": 12,
   "metadata": {
    "collapsed": true
   },
   "outputs": [],
   "source": [
    "source2 =get_mtr_data(calcbase,calc_H,MARS = 2,weights = wage_weighted, income_measure = 'c00100', complex_weight = False)"
   ]
  },
  {
   "cell_type": "code",
   "execution_count": 13,
   "metadata": {
    "collapsed": false
   },
   "outputs": [
    {
     "name": "stderr",
     "output_type": "stream",
     "text": [
      "/Users/seanwang/anaconda2/envs/taxcalc-dev/lib/python3.5/site-packages/bokeh/util/deprecation.py:33: BokehDeprecationWarning: legend_spacing was deprecated in Bokeh 0.12.3 and will be removed, use Legend.spacing instead.\n",
      "  warn(message)\n",
      "/Users/seanwang/anaconda2/envs/taxcalc-dev/lib/python3.5/site-packages/bokeh/util/deprecation.py:33: BokehDeprecationWarning: legend_padding was deprecated in Bokeh 0.12.3 and will be removed, use Legend.padding instead.\n",
      "  warn(message)\n"
     ]
    }
   ],
   "source": [
    "QQ = figure(plot_width=425, plot_height=250, title='Effect of Candidates\\' Proposals on MTR, Joint Filers')\n",
    "\n",
    "QQ.line((source1.reset_index()).index,\n",
    "            (source1.reset_index()).reform, line_color=Greens4[0], line_width=0.8,\n",
    "            line_alpha=1, legend=\"Trump\")\n",
    "QQ.line((source2.reset_index()).index,\n",
    "            (source2.reset_index()).reform, line_color=Reds4[0], line_width=0.8,\n",
    "            line_alpha=1, legend=\"Hillary\")\n",
    "QQ.line((source1.reset_index()).index,\n",
    "            (source1.reset_index()).base, line_color=Blues4[0], line_width=1,\n",
    "            line_alpha=1, legend=\"Base\")\n",
    "QQ.legend.location = \"bottom_right\"\n",
    "QQ.legend.label_text_font = \"times\"\n",
    "QQ.legend.label_text_font_style = \"italic\"\n",
    "QQ.legend.label_width = 2\n",
    "QQ.legend.label_height = 2\n",
    "QQ.legend.label_standoff = 2\n",
    "QQ.legend.glyph_width = 14\n",
    "QQ.legend.glyph_height = 14\n",
    "QQ.legend.legend_spacing = 5\n",
    "QQ.legend.legend_padding = 5\n",
    "QQ.yaxis.axis_label = 'Avg. MTR on Wage Income'\n",
    "QQ.xaxis.axis_label = 'Percentile of Adjusted Gross Income'"
   ]
  },
  {
   "cell_type": "code",
   "execution_count": 20,
   "metadata": {
    "collapsed": true
   },
   "outputs": [],
   "source": [
    "source1 =get_mtr_data(calcbase,calc_T,MARS = 4,weights = wage_weighted, income_measure = 'c00100', complex_weight = True)"
   ]
  },
  {
   "cell_type": "code",
   "execution_count": 21,
   "metadata": {
    "collapsed": true
   },
   "outputs": [],
   "source": [
    "source2 =get_mtr_data(calcbase,calc_H,MARS = 4,weights = wage_weighted, income_measure = 'c00100', complex_weight = True)"
   ]
  },
  {
   "cell_type": "code",
   "execution_count": 22,
   "metadata": {
    "collapsed": false
   },
   "outputs": [],
   "source": [
    "HH = figure(plot_width=425, plot_height=250, title='Effect of Candidates\\' Proposals on MTR, HH Filers')\n",
    "\n",
    "HH.line((source1.reset_index()).index,\n",
    "            (source1.reset_index()).reform, line_color=Greens4[0], line_width=0.8,\n",
    "            line_alpha=1, legend=\"Trump\")\n",
    "HH.line((source2.reset_index()).index,\n",
    "            (source2.reset_index()).reform, line_color=Reds4[0], line_width=0.8,\n",
    "            line_alpha=1, legend=\"Hillary\")\n",
    "HH.line((source1.reset_index()).index,\n",
    "            (source1.reset_index()).base, line_color=Blues4[0], line_width=1,\n",
    "            line_alpha=1, legend=\"Base\")\n",
    "HH.legend.location = \"bottom_right\"\n",
    "HH.legend.label_text_font = \"times\"\n",
    "HH.legend.label_text_font_style = \"italic\"\n",
    "HH.legend.label_width = 2\n",
    "HH.legend.label_height = 2\n",
    "HH.legend.label_standoff = 2\n",
    "HH.legend.glyph_width = 14\n",
    "HH.legend.glyph_height = 14\n",
    "HH.legend.spacing = 5\n",
    "HH.legend.padding = 5\n",
    "HH.yaxis.axis_label = 'Avg. MTR on Wage Income'\n",
    "HH.xaxis.axis_label = 'Percentile of Adjusted Gross Income'"
   ]
  },
  {
   "cell_type": "code",
   "execution_count": 17,
   "metadata": {
    "collapsed": false
   },
   "outputs": [],
   "source": [
    "show(PP)"
   ]
  },
  {
   "cell_type": "code",
   "execution_count": 18,
   "metadata": {
    "collapsed": false
   },
   "outputs": [],
   "source": [
    "show(QQ)"
   ]
  },
  {
   "cell_type": "code",
   "execution_count": 23,
   "metadata": {
    "collapsed": false
   },
   "outputs": [],
   "source": [
    "show(HH)"
   ]
  },
  {
   "cell_type": "code",
   "execution_count": null,
   "metadata": {
    "collapsed": true
   },
   "outputs": [],
   "source": []
  }
 ],
 "metadata": {
  "kernelspec": {
   "display_name": "Python 3",
   "language": "python",
   "name": "python3"
  },
  "language_info": {
   "codemirror_mode": {
    "name": "ipython",
    "version": 3
   },
   "file_extension": ".py",
   "mimetype": "text/x-python",
   "name": "python",
   "nbconvert_exporter": "python",
   "pygments_lexer": "ipython3",
   "version": "3.5.2"
  }
 },
 "nbformat": 4,
 "nbformat_minor": 0
}

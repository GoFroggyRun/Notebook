{
 "cells": [
  {
   "cell_type": "code",
   "execution_count": 1,
   "metadata": {
    "collapsed": false
   },
   "outputs": [],
   "source": [
    "import pandas as pd\n",
    "import numpy as np \n",
    "import sys\n",
    "sys.path.append(\"../tax-calculator\")\n",
    "from taxcalc.records import Records\n",
    "from taxcalc import *\n",
    "from taxcalc.utils import *\n",
    "from numpy.testing import assert_array_almost_equal\n",
    "import matplotlib\n",
    "import matplotlib.pyplot as plt \n",
    "from matplotlib.transforms import BlendedGenericTransform\n",
    "%matplotlib inline\n",
    "import copy\n",
    "import itertools"
   ]
  },
  {
   "cell_type": "code",
   "execution_count": 2,
   "metadata": {
    "collapsed": false
   },
   "outputs": [
    {
     "name": "stdout",
     "output_type": "stream",
     "text": [
      "You loaded data for 2009.\n",
      "Your data have been extrapolated to 2013.\n",
      "You loaded data for 2009.\n",
      "Your data have been extrapolated to 2013.\n",
      "You loaded data for 2009.\n",
      "Your data have been extrapolated to 2013.\n"
     ]
    }
   ],
   "source": [
    "puf = pd.read_csv(\"../tax-calculator/puf.csv\")\n",
    "policy_base = Policy()\n",
    "records_base = Records(puf)\n",
    "consump = Consumption()\n",
    "\n",
    "policy_T = Policy()\n",
    "records_reform = Records(puf)\n",
    "consump_T = Consumption()\n",
    "\n",
    "policy_H = Policy()\n",
    "records_org = Records(puf)\n",
    "consump_H = Consumption()\n",
    "\n",
    "calcbase = Calculator(policy = policy_base, records = records_base,consumption=consump)\n",
    "calc_T = Calculator(policy = policy_T, records = records_reform,consumption=consump_T)\n",
    "calc_H = Calculator(policy = policy_H, records = records_org,consumption=consump_H)"
   ]
  },
  {
   "cell_type": "code",
   "execution_count": 3,
   "metadata": {
    "collapsed": true
   },
   "outputs": [],
   "source": [
    "reform_H= {\n",
    "    2017: {'_AGI_surtax_thd': [[5000000, 5000000, 5000000, 5000000, 5000000, 5000000]],\n",
    "           '_AGI_surtax_trt': [0.04],\n",
    "           '_FST_AGI_trt':[0.3],\n",
    "           '_ID_BenefitCap_rt': [0.28]\n",
    "        }}"
   ]
  },
  {
   "cell_type": "code",
   "execution_count": 4,
   "metadata": {
    "collapsed": true
   },
   "outputs": [],
   "source": [
    "reform_T = {\n",
    "    2017: {'_II_rt1': [0.12],\n",
    "           '_II_brk1': [[37500, 75000, 37500, 37500, 75000, 37500]],\n",
    "           '_II_rt2': [0.25],\n",
    "           '_II_brk2': [[112500, 225000, 112500, 112500, 225000, 112500]],\n",
    "           '_II_rt3': [0.25],\n",
    "           '_II_brk3': [[112500, 225000, 112500, 112500, 225000, 112500]],\n",
    "           '_II_rt4': [0.25],\n",
    "           '_II_brk4': [[112500, 225000, 112500, 112500, 225000, 112500]],\n",
    "           '_II_rt5': [0.25],\n",
    "           '_II_brk5': [[112500, 225000, 112500, 112500, 225000, 112500]],\n",
    "           '_II_rt6': [0.25],\n",
    "           '_II_brk6': [[112500, 225000, 112500, 112500, 225000, 112500]],\n",
    "           '_II_rt7': [0.33],\n",
    "           '_PT_rt1': [0.12],\n",
    "           '_PT_brk1': [[37500, 75000, 37500, 37500, 75000, 37500]],\n",
    "           '_PT_rt2': [0.25],\n",
    "           '_PT_brk2': [[112500, 225000, 112500, 112500, 225000, 112500]],\n",
    "           '_PT_rt3': [0.25],\n",
    "           '_PT_brk3': [[112500, 225000, 112500, 112500, 225000, 112500]],\n",
    "           '_PT_rt4': [0.25],\n",
    "           '_PT_brk4': [[112500, 225000, 112500, 112500, 225000, 112500]],\n",
    "           '_PT_rt5': [0.25],\n",
    "           '_PT_brk5': [[112500, 225000, 112500, 112500, 225000, 112500]],\n",
    "           '_PT_rt6': [0.25],\n",
    "           '_PT_brk6': [[112500, 225000, 112500, 112500, 225000, 112500]],\n",
    "           '_PT_rt7': [0.33],\n",
    "           '_CG_thd1': [[37500, 75000, 37500, 37500, 75000, 37500]],\n",
    "           '_CG_thd2': [[112500, 225000, 112500, 112500, 225000, 112500]],\n",
    "           '_AMT_CG_thd1': [[37500, 75000, 37500, 37500, 75000, 37500]],\n",
    "           '_AMT_CG_thd2': [[112500, 225000, 112500, 112500, 225000, 112500]],\n",
    "           '_AMT_trt1':[0],\n",
    "           '_AMT_trt2':[0],\n",
    "           '_NIIT_trt':[0],\n",
    "           '_STD': [[15000,30000,15000,15000,12600, 6300, 1050]],\n",
    "           '_II_em': [0],\n",
    "           '_ID_BenefitSurtax_crt': [0.0],\n",
    "           '_ID_BenefitSurtax_trt': [1.0],\n",
    "           '_ID_BenefitSurtax_em': [[100000, 200000, 100000, 100000, 200000, 100000]]\n",
    "        }}"
   ]
  },
  {
   "cell_type": "code",
   "execution_count": 5,
   "metadata": {
    "collapsed": true
   },
   "outputs": [],
   "source": [
    "consumption_response = {2017: {'_MPC_e18400': [0.047]}}"
   ]
  },
  {
   "cell_type": "code",
   "execution_count": 6,
   "metadata": {
    "collapsed": false
   },
   "outputs": [],
   "source": [
    "policy_T.implement_reform(reform_T)\n",
    "policy_H.implement_reform(reform_H)\n",
    "consump.update_consumption(consumption_response)\n",
    "consump_T.update_consumption(consumption_response)\n",
    "consump_H.update_consumption(consumption_response)\n",
    "calcbase.advance_to_year(2017)\n",
    "calc_T.advance_to_year(2017)\n",
    "calc_H.advance_to_year(2017)"
   ]
  },
  {
   "cell_type": "code",
   "execution_count": 7,
   "metadata": {
    "collapsed": true
   },
   "outputs": [],
   "source": [
    "calcbase.calc_all()\n",
    "calc_T.calc_all()\n",
    "calc_H.calc_all()"
   ]
  },
  {
   "cell_type": "code",
   "execution_count": 8,
   "metadata": {
    "collapsed": false
   },
   "outputs": [],
   "source": [
    "source1 =get_mtr_data(calcbase,calc_T,MARS = 1,weights = wage_weighted, income_measure = 'e00200', complex_weight = True)"
   ]
  },
  {
   "cell_type": "code",
   "execution_count": 9,
   "metadata": {
    "collapsed": true
   },
   "outputs": [],
   "source": [
    "source2 =get_mtr_data(calcbase,calc_H,MARS = 1,weights = wage_weighted, income_measure = 'e00200', complex_weight = True)"
   ]
  },
  {
   "cell_type": "code",
   "execution_count": 12,
   "metadata": {
    "collapsed": false
   },
   "outputs": [],
   "source": [
    "PP = figure(plot_width=425, plot_height=250, title='MTR plot for Single')\n",
    "\n",
    "PP.line((source1.reset_index()).index,\n",
    "            (source1.reset_index()).base, line_color=Blues4[0], line_width=1,\n",
    "            line_alpha=1, legend=\"Base\")\n",
    "PP.line((source1.reset_index()).index,\n",
    "            (source1.reset_index()).reform, line_color=Greens4[0], line_width=0.8,\n",
    "            line_alpha=1, legend=\"Trump\")\n",
    "PP.line((source2.reset_index()).index,\n",
    "            (source2.reset_index()).reform, line_color=Reds4[0], line_width=0.8,\n",
    "            line_alpha=1, legend=\"Hillary\")\n",
    "PP.legend.location = \"top_left\"\n",
    "PP.legend.label_text_font = \"times\"\n",
    "PP.legend.label_text_font_style = \"italic\"\n",
    "PP.legend.label_width = 2\n",
    "PP.legend.label_height = 2\n",
    "PP.legend.label_standoff = 2\n",
    "PP.legend.glyph_width = 14\n",
    "PP.legend.glyph_height = 14\n",
    "PP.legend.legend_spacing = 5\n",
    "PP.legend.legend_padding = 5"
   ]
  },
  {
   "cell_type": "code",
   "execution_count": 13,
   "metadata": {
    "collapsed": true
   },
   "outputs": [],
   "source": [
    "source1 =get_mtr_data(calcbase,calc_T,MARS = 2,weights = wage_weighted, income_measure = 'e00200', complex_weight = True)"
   ]
  },
  {
   "cell_type": "code",
   "execution_count": 14,
   "metadata": {
    "collapsed": true
   },
   "outputs": [],
   "source": [
    "source2 =get_mtr_data(calcbase,calc_H,MARS = 2,weights = wage_weighted, income_measure = 'e00200', complex_weight = True)"
   ]
  },
  {
   "cell_type": "code",
   "execution_count": 15,
   "metadata": {
    "collapsed": true
   },
   "outputs": [],
   "source": [
    "QQ = figure(plot_width=425, plot_height=250, title='MTR plot for Joint')\n",
    "\n",
    "QQ.line((source1.reset_index()).index,\n",
    "            (source1.reset_index()).base, line_color=Blues4[0], line_width=1,\n",
    "            line_alpha=1, legend=\"Base\")\n",
    "QQ.line((source1.reset_index()).index,\n",
    "            (source1.reset_index()).reform, line_color=Greens4[0], line_width=0.8,\n",
    "            line_alpha=1, legend=\"Trump\")\n",
    "QQ.line((source2.reset_index()).index,\n",
    "            (source2.reset_index()).reform, line_color=Reds4[0], line_width=0.8,\n",
    "            line_alpha=1, legend=\"Hillary\")\n",
    "QQ.legend.location = \"top_left\"\n",
    "QQ.legend.label_text_font = \"times\"\n",
    "QQ.legend.label_text_font_style = \"italic\"\n",
    "QQ.legend.label_width = 2\n",
    "QQ.legend.label_height = 2\n",
    "QQ.legend.label_standoff = 2\n",
    "QQ.legend.glyph_width = 14\n",
    "QQ.legend.glyph_height = 14\n",
    "QQ.legend.legend_spacing = 5\n",
    "QQ.legend.legend_padding = 5"
   ]
  },
  {
   "cell_type": "code",
   "execution_count": 16,
   "metadata": {
    "collapsed": true
   },
   "outputs": [],
   "source": [
    "source1 =get_mtr_data(calcbase,calc_T,MARS = 4,weights = wage_weighted, income_measure = 'e00200', complex_weight = True)"
   ]
  },
  {
   "cell_type": "code",
   "execution_count": 17,
   "metadata": {
    "collapsed": true
   },
   "outputs": [],
   "source": [
    "source2 =get_mtr_data(calcbase,calc_H,MARS = 4,weights = wage_weighted, income_measure = 'e00200', complex_weight = True)"
   ]
  },
  {
   "cell_type": "code",
   "execution_count": 19,
   "metadata": {
    "collapsed": true
   },
   "outputs": [],
   "source": [
    "HH = figure(plot_width=425, plot_height=250, title='MTR plot for HH')\n",
    "\n",
    "HH.line((source1.reset_index()).index,\n",
    "            (source1.reset_index()).base, line_color=Blues4[0], line_width=1,\n",
    "            line_alpha=1, legend=\"Base\")\n",
    "HH.line((source1.reset_index()).index,\n",
    "            (source1.reset_index()).reform, line_color=Greens4[0], line_width=0.8,\n",
    "            line_alpha=1, legend=\"Trump\")\n",
    "HH.line((source2.reset_index()).index,\n",
    "            (source2.reset_index()).reform, line_color=Reds4[0], line_width=0.8,\n",
    "            line_alpha=1, legend=\"Hillary\")\n",
    "HH.legend.location = \"bottom_right\"\n",
    "HH.legend.label_text_font = \"times\"\n",
    "HH.legend.label_text_font_style = \"italic\"\n",
    "HH.legend.label_width = 2\n",
    "HH.legend.label_height = 2\n",
    "HH.legend.label_standoff = 2\n",
    "HH.legend.glyph_width = 14\n",
    "HH.legend.glyph_height = 14\n",
    "HH.legend.legend_spacing = 5\n",
    "HH.legend.legend_padding = 5"
   ]
  },
  {
   "cell_type": "code",
   "execution_count": null,
   "metadata": {
    "collapsed": true
   },
   "outputs": [],
   "source": [
    "show(PP)\n",
    "show(QQ)\n",
    "show(HH)"
   ]
  }
 ],
 "metadata": {
  "kernelspec": {
   "display_name": "Python 2",
   "language": "python",
   "name": "python2"
  },
  "language_info": {
   "codemirror_mode": {
    "name": "ipython",
    "version": 2
   },
   "file_extension": ".py",
   "mimetype": "text/x-python",
   "name": "python",
   "nbconvert_exporter": "python",
   "pygments_lexer": "ipython2",
   "version": "2.7.11"
  }
 },
 "nbformat": 4,
 "nbformat_minor": 0
}

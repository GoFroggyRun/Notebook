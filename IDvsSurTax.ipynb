{
 "cells": [
  {
   "cell_type": "code",
   "execution_count": 1,
   "metadata": {
    "collapsed": false
   },
   "outputs": [],
   "source": [
    "import pandas as pd\n",
    "import numpy as np \n",
    "import sys\n",
    "sys.path.append(\"../tax-calculator\")\n",
    "from taxcalc.records import Records\n",
    "from taxcalc import Policy, Records, Calculator, Behavior, behavior\n",
    "from taxcalc.utils import *\n",
    "from numpy.testing import assert_array_almost_equal\n",
    "import matplotlib\n",
    "import matplotlib.pyplot as plt \n",
    "from matplotlib.transforms import BlendedGenericTransform\n",
    "%matplotlib inline\n",
    "import copy\n",
    "import itertools"
   ]
  },
  {
   "cell_type": "code",
   "execution_count": 2,
   "metadata": {
    "collapsed": false
   },
   "outputs": [
    {
     "name": "stdout",
     "output_type": "stream",
     "text": [
      "You loaded data for 2009.\n",
      "Your data have been extrapolated to 2013.\n",
      "You loaded data for 2009.\n",
      "Your data have been extrapolated to 2013.\n",
      "You loaded data for 2009.\n",
      "Your data have been extrapolated to 2013.\n"
     ]
    }
   ],
   "source": [
    "puf = pd.read_csv(\"../tax-calculator/puf.csv\")\n",
    "policy_base = Policy()\n",
    "records_base = Records(puf)\n",
    "\n",
    "policy_reform = Policy()\n",
    "records_reform = Records(puf)\n",
    "\n",
    "policy_org = Policy()\n",
    "records_org = Records(puf)\n",
    "\n",
    "calcbase = Calculator(policy = policy_base, records = records_base)\n",
    "calcreform = Calculator(policy = policy_reform, records = records_reform)\n",
    "calcori = Calculator(policy = policy_org, records = records_org)"
   ]
  },
  {
   "cell_type": "code",
   "execution_count": 3,
   "metadata": {
    "collapsed": false
   },
   "outputs": [],
   "source": [
    "    reform1 = {2013: {'_ID_Medical_HC': [1],\n",
    "                      '_ID_StateLocalTax_HC': [1],\n",
    "                      '_ID_RealEstate_HC': [1],\n",
    "                      '_ID_Casualty_HC': [1],\n",
    "                      '_ID_Miscellaneous_HC': [1],\n",
    "                      '_ID_InterestPaid_HC': [1],\n",
    "                      '_ID_Charity_HC': [1]}}\n",
    "\n",
    "    reform2 = {2013: {'_ID_BenefitSurtax_crt': [0.]}}\n",
    "\n",
    "    policy_base.implement_reform(reform1)\n",
    "    policy_reform.implement_reform(reform2)\n",
    "    calcbase.calc_all()\n",
    "    calcreform.calc_all()\n",
    "    calcori.calc_all()"
   ]
  },
  {
   "cell_type": "code",
   "execution_count": 18,
   "metadata": {
    "collapsed": false
   },
   "outputs": [
    {
     "name": "stdout",
     "output_type": "stream",
     "text": [
      "[1072110]\n",
      "[]\n",
      "[]\n"
     ]
    }
   ],
   "source": [
    "print calcbase.records.RECID[calcbase.records._iitax < (calcreform.records._iitax - 0.01)]\n",
    "print calcbase.records.RECID[calcbase.records._iitax > (calcreform.records._iitax + 0.01)]\n",
    "print calcbase.records._iitax[calcbase.records.RECID == 2] - calcreform.records._iitax[calcreform.records.RECID == 2]"
   ]
  },
  {
   "cell_type": "code",
   "execution_count": 22,
   "metadata": {
    "collapsed": false
   },
   "outputs": [],
   "source": [
    "exclude_REC = calcbase.records.RECID[(calcbase.records._iitax < (calcreform.records._iitax - 0.01))&(calcbase.records.c63200 < (calcreform.records.c63200 - 0.01))]"
   ]
  },
  {
   "cell_type": "code",
   "execution_count": 14,
   "metadata": {
    "collapsed": false
   },
   "outputs": [
    {
     "name": "stdout",
     "output_type": "stream",
     "text": [
      "[]\n",
      "[ 0.]\n",
      "[]\n",
      "[]\n",
      "[]\n",
      "======\n",
      "[]\n",
      "[ 5074.69869865]\n",
      "[]\n",
      "[]\n",
      "[]\n"
     ]
    }
   ],
   "source": [
    "print calcbase.records._iitax[calcreform.records.RECID == 2]\n",
    "print calcbase.records.c63200[calcbase.records.RECID == 1072110]\n",
    "print calcbase.records.c62700[calcbase.records.RECID == 2]\n",
    "print calcbase.records._taxbc[calcbase.records.RECID == 2]\n",
    "print calcbase.records.c62760[calcbase.records.RECID == 2]\n",
    "\n",
    "print '======'\n",
    "print calcori.records._iitax[calcreform.records.RECID == 2]\n",
    "print calcreform.records.c63200[calcbase.records.RECID == 1072110]\n",
    "print calcori.records.c62700[calcbase.records.RECID == 2]\n",
    "print calcori.records._taxbc[calcbase.records.RECID == 2]\n",
    "print calcori.records.c62760[calcbase.records.RECID == 2]\n"
   ]
  },
  {
   "cell_type": "code",
   "execution_count": null,
   "metadata": {
    "collapsed": true
   },
   "outputs": [],
   "source": []
  }
 ],
 "metadata": {
  "kernelspec": {
   "display_name": "Python 2",
   "language": "python",
   "name": "python2"
  },
  "language_info": {
   "codemirror_mode": {
    "name": "ipython",
    "version": 2
   },
   "file_extension": ".py",
   "mimetype": "text/x-python",
   "name": "python",
   "nbconvert_exporter": "python",
   "pygments_lexer": "ipython2",
   "version": "2.7.11"
  }
 },
 "nbformat": 4,
 "nbformat_minor": 0
}

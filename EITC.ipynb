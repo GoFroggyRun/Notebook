{
 "cells": [
  {
   "cell_type": "code",
   "execution_count": 1,
   "metadata": {
    "collapsed": false
   },
   "outputs": [],
   "source": [
    "import pandas as pd\n",
    "import numpy as np \n",
    "import sys\n",
    "sys.path.append(\"../tax-calculator\")\n",
    "from taxcalc.records import Records\n",
    "from taxcalc import Policy, Records, Calculator, Behavior, behavior\n",
    "from taxcalc.utils import *\n",
    "from numpy.testing import assert_array_almost_equal\n",
    "import matplotlib\n",
    "import matplotlib.pyplot as plt \n",
    "from matplotlib.transforms import BlendedGenericTransform\n",
    "%matplotlib inline\n",
    "import copy\n",
    "import itertools"
   ]
  },
  {
   "cell_type": "code",
   "execution_count": 2,
   "metadata": {
    "collapsed": false
   },
   "outputs": [
    {
     "name": "stdout",
     "output_type": "stream",
     "text": [
      "You loaded data for 2009.\n",
      "Your data have been extrapolated to 2013.\n",
      "You loaded data for 2009.\n",
      "Your data have been extrapolated to 2013.\n",
      "You loaded data for 2009.\n",
      "Your data have been extrapolated to 2013.\n",
      "You loaded data for 2009.\n",
      "Your data have been extrapolated to 2013.\n"
     ]
    }
   ],
   "source": [
    "puf = pd.read_csv(\"../tax-calculator/puf.csv\")\n",
    "policy_base = Policy()\n",
    "records_base = Records(puf)\n",
    "\n",
    "policy_reform = Policy()\n",
    "records_reform = Records(puf)\n",
    "\n",
    "policy_reform2 = Policy()\n",
    "records_reform2 = Records(puf)\n",
    "\n",
    "policy_reform3 = Policy()\n",
    "records_reform3 = Records(puf)\n",
    "\n",
    "calcbase = Calculator(policy = policy_base, records = records_base)\n",
    "calcreform = Calculator(policy = policy_reform, records = records_reform)\n",
    "calcreform2 = Calculator(policy = policy_reform2, records = records_reform2)\n",
    "calcreform3 = Calculator(policy = policy_reform3, records = records_reform3)"
   ]
  },
  {
   "cell_type": "code",
   "execution_count": null,
   "metadata": {
    "collapsed": true
   },
   "outputs": [],
   "source": [
    "    reform1 = {2017: {'_EITC_rt': [[0,0,0,0]]}}\n",
    "\n",
    "    reform2 = {2017: {'_II_brk1': [[0,0,0,0,0,0]],\n",
    "                     '_II_brk2': [[0,0,0,0,0,0]],\n",
    "                     '_II_brk3': [[0,0,0,0,0,0]],\n",
    "                     '_II_brk4': [[0,0,0,0,0,0]],\n",
    "                     '_II_brk5': [[0,0,0,0,0,0]],\n",
    "                     '_II_brk6': [[0,0,0,0,0,0]]}}\n",
    "\n",
    "    reform3 = {2017: {'_EITC_c': [[0,0,0,0]]}}\n",
    "    \n",
    "    reform4 = {2017: {'_STD': [[0,0,0,0,0,0,0]]}}\n",
    "    \n",
    "    policy_base.implement_reform(reform1)\n",
    "    policy_reform.implement_reform(reform2)\n",
    "    policy_reform2.implement_reform(reform3)\n",
    "    policy_reform3.implement_reform(reform4)\n",
    "    \n",
    "    calcbase.advance_to_year(2016)\n",
    "    calcreform.advance_to_year(2016)\n",
    "    calcreform2.advance_to_year(2016)\n",
    "    calcreform3.advance_to_year(2016)"
   ]
  },
  {
   "cell_type": "code",
   "execution_count": 4,
   "metadata": {
    "collapsed": false
   },
   "outputs": [],
   "source": [
    "calcbase.calc_all()\n",
    "calcreform.calc_all()\n",
    "calcreform2.calc_all()\n",
    "calcreform3.calc_all()"
   ]
  },
  {
   "cell_type": "code",
   "execution_count": 6,
   "metadata": {
    "collapsed": false
   },
   "outputs": [
    {
     "name": "stdout",
     "output_type": "stream",
     "text": [
      "0.0\n",
      "0.0\n",
      "0.0\n",
      "0.0\n"
     ]
    }
   ],
   "source": [
    "print (calcbase.records.c59660*calcbase.records.s006).sum()\n",
    "print (calcreform.records._feitax*calcreform.records.s006).sum()\n",
    "print (calcreform2.records.c59660*calcreform2.records.s006).sum()\n",
    "print (calcreform3.records.c04100*calcreform3.records.s006).sum()"
   ]
  },
  {
   "cell_type": "code",
   "execution_count": 3,
   "metadata": {
    "collapsed": true
   },
   "outputs": [],
   "source": [
    "    calcbase.advance_to_year(2014)\n",
    "    calcreform.advance_to_year(2014)\n",
    "    calcreform2.advance_to_year(2014)\n",
    "    calcreform3.advance_to_year(2014)"
   ]
  },
  {
   "cell_type": "code",
   "execution_count": 4,
   "metadata": {
    "collapsed": true
   },
   "outputs": [],
   "source": [
    "calcbase.calc_all()\n",
    "calcreform.calc_all()\n",
    "calcreform2.calc_all()\n",
    "calcreform3.calc_all()"
   ]
  },
  {
   "cell_type": "code",
   "execution_count": 6,
   "metadata": {
    "collapsed": false
   },
   "outputs": [
    {
     "data": {
      "text/plain": [
       "47243488.74101481"
      ]
     },
     "execution_count": 6,
     "metadata": {},
     "output_type": "execute_result"
    }
   ],
   "source": [
    "((calcbase.records.FDED == 1)*(calcbase.records.s006)).sum()"
   ]
  },
  {
   "cell_type": "code",
   "execution_count": 7,
   "metadata": {
    "collapsed": false
   },
   "outputs": [
    {
     "data": {
      "text/plain": [
       "165200115.61805412"
      ]
     },
     "execution_count": 7,
     "metadata": {},
     "output_type": "execute_result"
    }
   ],
   "source": [
    "calcbase.records.s006.sum()"
   ]
  },
  {
   "cell_type": "code",
   "execution_count": 9,
   "metadata": {
    "collapsed": false
   },
   "outputs": [
    {
     "data": {
      "text/plain": [
       "0.28597733460576186"
      ]
     },
     "execution_count": 9,
     "metadata": {},
     "output_type": "execute_result"
    }
   ],
   "source": [
    "47243488.74101481/165200115.61805412"
   ]
  },
  {
   "cell_type": "code",
   "execution_count": null,
   "metadata": {
    "collapsed": true
   },
   "outputs": [],
   "source": []
  }
 ],
 "metadata": {
  "kernelspec": {
   "display_name": "Python 2",
   "language": "python",
   "name": "python2"
  },
  "language_info": {
   "codemirror_mode": {
    "name": "ipython",
    "version": 2
   },
   "file_extension": ".py",
   "mimetype": "text/x-python",
   "name": "python",
   "nbconvert_exporter": "python",
   "pygments_lexer": "ipython2",
   "version": "2.7.12"
  }
 },
 "nbformat": 4,
 "nbformat_minor": 0
}

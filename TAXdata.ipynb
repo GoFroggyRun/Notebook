{
 "cells": [
  {
   "cell_type": "code",
   "execution_count": 1,
   "metadata": {
    "collapsed": true
   },
   "outputs": [],
   "source": [
    "import pandas as pd\n",
    "import numpy as np \n",
    "import sys\n",
    "sys.path.append(\"../tax-calculator\")\n",
    "from taxcalc.records import Records\n",
    "from taxcalc import Policy, Records, Calculator, Behavior, behavior\n",
    "from taxcalc.utils import *\n",
    "from numpy.testing import assert_array_almost_equal\n",
    "import matplotlib\n",
    "import matplotlib.pyplot as plt \n",
    "from matplotlib.transforms import BlendedGenericTransform\n",
    "%matplotlib inline\n",
    "import copy"
   ]
  },
  {
   "cell_type": "code",
   "execution_count": 2,
   "metadata": {
    "collapsed": false
   },
   "outputs": [
    {
     "name": "stdout",
     "output_type": "stream",
     "text": [
      "You loaded data for 2009.\n",
      "Your data have been extrapolated to 2013.\n",
      "You loaded data for 2009.\n",
      "Your data have been extrapolated to 2013.\n"
     ]
    }
   ],
   "source": [
    "puf = pd.read_csv(\"../tax-calculator/puf.csv\")\n",
    "policy_base = Policy()\n",
    "records_base = Records(puf)\n",
    "\n",
    "policy_reform = Policy()\n",
    "records_reform = Records(puf)\n",
    "\n",
    "calcbase = Calculator(policy = policy_base, records = records_base)\n",
    "calcreform = Calculator(policy = policy_reform, records = records_reform)"
   ]
  },
  {
   "cell_type": "code",
   "execution_count": 3,
   "metadata": {
    "collapsed": false
   },
   "outputs": [],
   "source": [
    "reform = {\n",
    "          2015:{\n",
    "        \"_ID_InterestPaid_HC\":[0.5],\n",
    "        \"_ID_StateLocalTax_HC\":[0.5],\n",
    "        \"_ID_Charity_HC\":[0.5],\n",
    "        \"_ID_RealEstate_HC\":[0.4]\n",
    "    }\n",
    "}\n",
    "policy_reform.implement_reform(reform)"
   ]
  },
  {
   "cell_type": "code",
   "execution_count": 4,
   "metadata": {
    "collapsed": false
   },
   "outputs": [],
   "source": [
    "calcbase.advance_to_year(2015)\n",
    "calcreform.advance_to_year(2015)"
   ]
  },
  {
   "cell_type": "code",
   "execution_count": 5,
   "metadata": {
    "collapsed": false
   },
   "outputs": [],
   "source": [
    "calcbase.calc_all()\n",
    "calcreform.calc_all()"
   ]
  },
  {
   "cell_type": "code",
   "execution_count": 6,
   "metadata": {
    "collapsed": true
   },
   "outputs": [],
   "source": [
    "def agg_diff(calcX, calcY):\n",
    "    df_x = results(calcX)\n",
    "    df_y = results(calcY)\n",
    "    \n",
    "    agg_x = sum(df_x['_combined']*df_x['s006'])\n",
    "    agg_y = sum(df_y['_combined']*df_y['s006'])\n",
    "    \n",
    "    agg_diif = agg_y - agg_x\n",
    "\n",
    "    agg_diif.tofile('agg_diif.csv',sep=',',format='%1.3f')"
   ]
  },
  {
   "cell_type": "code",
   "execution_count": 7,
   "metadata": {
    "collapsed": false
   },
   "outputs": [],
   "source": [
    "agg_diff(calcbase,calcreform)"
   ]
  },
  {
   "cell_type": "code",
   "execution_count": null,
   "metadata": {
    "collapsed": true
   },
   "outputs": [],
   "source": []
  },
  {
   "cell_type": "code",
   "execution_count": 8,
   "metadata": {
    "collapsed": false
   },
   "outputs": [],
   "source": [
    "def agg_num_delta(calcX, calcY):\n",
    "    df_x = results(calcX)\n",
    "    df_y = results(calcY)\n",
    "    \n",
    "    id_itemizers_x = ((calcX.records.c04470 > 0) & (calcX.records.c00100 > 0))\n",
    "    id_itemizers_y = ((calcY.records.c04470 > 0) & (calcY.records.c00100 > 0))\n",
    "    df_x['pct_itm'] = id_itemizers_x\n",
    "    df_y['pct_itm'] = id_itemizers_y\n",
    "    \n",
    "    itm_x = sum(df_x['pct_itm'] * df_x['s006'])\n",
    "    itm_y = sum(df_y['pct_itm'] * df_y['s006'])\n",
    "    \n",
    "    agg_num_delta = itm_y - itm_x\n",
    "\n",
    "    agg_num_delta.tofile('agg_num_delta.csv',sep=',',format='%1.3f')"
   ]
  },
  {
   "cell_type": "code",
   "execution_count": 9,
   "metadata": {
    "collapsed": false
   },
   "outputs": [],
   "source": [
    "agg_num_delta(calcbase,calcreform)"
   ]
  },
  {
   "cell_type": "code",
   "execution_count": null,
   "metadata": {
    "collapsed": true
   },
   "outputs": [],
   "source": []
  },
  {
   "cell_type": "code",
   "execution_count": 10,
   "metadata": {
    "collapsed": false
   },
   "outputs": [],
   "source": [
    "def func(reform_on_II, orgi_reform):\n",
    "    policy_func = Policy()\n",
    "    records_func = Records(puf)\n",
    "    calc_func = Calculator(policy = policy_func, records = records_func)\n",
    "    policy_bench = Policy()\n",
    "    records_bench = Records(puf)\n",
    "    calc_bench = Calculator(policy = policy_bench, records = records_bench)\n",
    "    reform = {\n",
    "        2015:{\n",
    "        \"_II_rt1\":[max(0.1 - reform_on_II,0.0)],\n",
    "        \"_II_rt2\":[max(0.15 - reform_on_II,0.0)],\n",
    "        \"_II_rt3\":[max(0.25 - reform_on_II,0.0)],\n",
    "        \"_II_rt4\":[max(0.28 - reform_on_II,0.0)],\n",
    "        \"_II_rt5\":[max(0.33 - reform_on_II,0.0)],\n",
    "        \"_II_rt6\":[max(0.35 - reform_on_II,0.0)],\n",
    "        \"_II_rt7\":[max(0.396 - reform_on_II,0.0)]}\n",
    "    }\n",
    "    policy_func.implement_reform(reform)\n",
    "    policy_func.implement_reform(orgi_reform)\n",
    "    calc_func.advance_to_year(2015)\n",
    "    calc_bench.advance_to_year(2015)\n",
    "    calc_func.calc_all()\n",
    "    calc_bench.calc_all()\n",
    "    return ((calc_bench.records._combined*calc_bench.records.s006).sum()-(calc_func.records._combined*calc_func.records.s006).sum())\n"
   ]
  },
  {
   "cell_type": "code",
   "execution_count": 11,
   "metadata": {
    "collapsed": true
   },
   "outputs": [],
   "source": [
    "def reform_equiv(orgi_reform, epsilon):\n",
    "    upp = 0.1\n",
    "    low = 0\n",
    "    mid = (upp + low)/2.0\n",
    "    while (upp - low)/2.0 > epsilon:\n",
    "        delta = func(mid,orgi_reform)\n",
    "        if delta == 0:\n",
    "            return mid \n",
    "        elif delta < 0:\n",
    "            low = mid\n",
    "        else:\n",
    "            upp = mid\n",
    "        mid = (upp + low)/2.0\n",
    "    return mid"
   ]
  },
  {
   "cell_type": "code",
   "execution_count": 12,
   "metadata": {
    "collapsed": false
   },
   "outputs": [
    {
     "name": "stdout",
     "output_type": "stream",
     "text": [
      "You loaded data for 2009.\n",
      "Your data have been extrapolated to 2013.\n",
      "You loaded data for 2009.\n",
      "Your data have been extrapolated to 2013.\n",
      "You loaded data for 2009.\n",
      "Your data have been extrapolated to 2013.\n",
      "You loaded data for 2009.\n",
      "Your data have been extrapolated to 2013.\n",
      "You loaded data for 2009.\n",
      "Your data have been extrapolated to 2013.\n",
      "You loaded data for 2009.\n",
      "Your data have been extrapolated to 2013.\n",
      "You loaded data for 2009.\n",
      "Your data have been extrapolated to 2013.\n",
      "You loaded data for 2009.\n",
      "Your data have been extrapolated to 2013.\n",
      "You loaded data for 2009.\n",
      "Your data have been extrapolated to 2013.\n",
      "You loaded data for 2009.\n",
      "Your data have been extrapolated to 2013.\n",
      "You loaded data for 2009.\n",
      "Your data have been extrapolated to 2013.\n",
      "You loaded data for 2009.\n",
      "Your data have been extrapolated to 2013.\n",
      "You loaded data for 2009.\n",
      "Your data have been extrapolated to 2013.\n",
      "You loaded data for 2009.\n",
      "Your data have been extrapolated to 2013.\n",
      "You loaded data for 2009.\n",
      "Your data have been extrapolated to 2013.\n",
      "You loaded data for 2009.\n",
      "Your data have been extrapolated to 2013.\n",
      "You loaded data for 2009.\n",
      "Your data have been extrapolated to 2013.\n",
      "You loaded data for 2009.\n",
      "Your data have been extrapolated to 2013.\n"
     ]
    },
    {
     "data": {
      "text/plain": [
       "0.01767578125"
      ]
     },
     "execution_count": 12,
     "metadata": {},
     "output_type": "execute_result"
    }
   ],
   "source": [
    "reform_equiv(reform, 0.0001)"
   ]
  },
  {
   "cell_type": "code",
   "execution_count": 13,
   "metadata": {
    "collapsed": false
   },
   "outputs": [
    {
     "name": "stdout",
     "output_type": "stream",
     "text": [
      "You loaded data for 2009.\n",
      "Your data have been extrapolated to 2013.\n",
      "You loaded data for 2009.\n",
      "Your data have been extrapolated to 2013.\n"
     ]
    },
    {
     "data": {
      "text/plain": [
       "-1.9704763792789642e-05"
      ]
     },
     "execution_count": 13,
     "metadata": {},
     "output_type": "execute_result"
    }
   ],
   "source": [
    "func(0.01767578125,reform) / (calcbase.records._combined*calcbase.records.s006).sum()"
   ]
  },
  {
   "cell_type": "code",
   "execution_count": 14,
   "metadata": {
    "collapsed": true
   },
   "outputs": [],
   "source": [
    "reform1 = {\n",
    "          2015:{\n",
    "                '_ID_StateLocalTax_HC': [0],\n",
    "                '_ID_RealEstate_HC': [0],\n",
    "                '_ID_InterestPaid_HC': [0],\n",
    "                '_ID_Charity_HC': [0]}\n",
    "}\n",
    "reform2 = {\n",
    "          2015:{\n",
    "                '_ID_StateLocalTax_HC': [1],\n",
    "                '_ID_RealEstate_HC': [1],\n",
    "                '_ID_InterestPaid_HC': [0],\n",
    "                '_ID_Charity_HC': [0]}\n",
    "}\n",
    "reform3 = {\n",
    "          2015:{\n",
    "                '_ID_StateLocalTax_HC': [1],\n",
    "                '_ID_RealEstate_HC': [1],\n",
    "                '_ID_InterestPaid_HC': [0],\n",
    "                '_ID_Charity_HC': [1]}\n",
    "}\n",
    "reform4 = {\n",
    "          2015:{\n",
    "                '_ID_StateLocalTax_HC': [1],\n",
    "                '_ID_RealEstate_HC': [1],\n",
    "                '_ID_InterestPaid_HC': [1],\n",
    "                '_ID_Charity_HC': [0]}\n",
    "}\n",
    "reform5 = {\n",
    "          2015:{\n",
    "                '_ID_StateLocalTax_HC': [0],\n",
    "                '_ID_RealEstate_HC': [0],\n",
    "                '_ID_InterestPaid_HC': [1],\n",
    "                '_ID_Charity_HC': [1]}\n",
    "}\n",
    "reform6 = {\n",
    "          2015:{\n",
    "                '_ID_StateLocalTax_HC': [0],\n",
    "                '_ID_RealEstate_HC': [0],\n",
    "                '_ID_InterestPaid_HC': [0],\n",
    "                '_ID_Charity_HC': [1]}\n",
    "}\n",
    "reform7 = {\n",
    "          2015:{\n",
    "                '_ID_StateLocalTax_HC': [0],\n",
    "                '_ID_RealEstate_HC': [0],\n",
    "                '_ID_InterestPaid_HC': [1],\n",
    "                '_ID_Charity_HC': [0]}\n",
    "}\n",
    "reform8 = {\n",
    "          2015:{\n",
    "                '_ID_StateLocalTax_HC': [1],\n",
    "                '_ID_RealEstate_HC': [1],\n",
    "                '_ID_InterestPaid_HC': [1],\n",
    "                '_ID_Charity_HC': [1]}\n",
    "}\n"
   ]
  },
  {
   "cell_type": "code",
   "execution_count": 15,
   "metadata": {
    "collapsed": false
   },
   "outputs": [
    {
     "name": "stdout",
     "output_type": "stream",
     "text": [
      "You loaded data for 2009.\n",
      "Your data have been extrapolated to 2013.\n",
      "You loaded data for 2009.\n",
      "Your data have been extrapolated to 2013.\n",
      "You loaded data for 2009.\n",
      "Your data have been extrapolated to 2013.\n",
      "You loaded data for 2009.\n",
      "Your data have been extrapolated to 2013.\n",
      "You loaded data for 2009.\n",
      "Your data have been extrapolated to 2013.\n",
      "You loaded data for 2009.\n",
      "Your data have been extrapolated to 2013.\n",
      "You loaded data for 2009.\n",
      "Your data have been extrapolated to 2013.\n",
      "You loaded data for 2009.\n",
      "Your data have been extrapolated to 2013.\n",
      "You loaded data for 2009.\n",
      "Your data have been extrapolated to 2013.\n",
      "You loaded data for 2009.\n",
      "Your data have been extrapolated to 2013.\n",
      "You loaded data for 2009.\n",
      "Your data have been extrapolated to 2013.\n",
      "You loaded data for 2009.\n",
      "Your data have been extrapolated to 2013.\n",
      "You loaded data for 2009.\n",
      "Your data have been extrapolated to 2013.\n",
      "You loaded data for 2009.\n",
      "Your data have been extrapolated to 2013.\n",
      "You loaded data for 2009.\n",
      "Your data have been extrapolated to 2013.\n",
      "You loaded data for 2009.\n",
      "Your data have been extrapolated to 2013.\n",
      "You loaded data for 2009.\n",
      "Your data have been extrapolated to 2013.\n",
      "You loaded data for 2009.\n",
      "Your data have been extrapolated to 2013.\n"
     ]
    },
    {
     "data": {
      "text/plain": [
       "9.765625e-05"
      ]
     },
     "execution_count": 15,
     "metadata": {},
     "output_type": "execute_result"
    }
   ],
   "source": [
    "reform_equiv(reform1, 0.0001)"
   ]
  },
  {
   "cell_type": "code",
   "execution_count": 16,
   "metadata": {
    "collapsed": false
   },
   "outputs": [
    {
     "name": "stdout",
     "output_type": "stream",
     "text": [
      "You loaded data for 2009.\n",
      "Your data have been extrapolated to 2013.\n",
      "You loaded data for 2009.\n",
      "Your data have been extrapolated to 2013.\n",
      "You loaded data for 2009.\n",
      "Your data have been extrapolated to 2013.\n",
      "You loaded data for 2009.\n",
      "Your data have been extrapolated to 2013.\n",
      "You loaded data for 2009.\n",
      "Your data have been extrapolated to 2013.\n",
      "You loaded data for 2009.\n",
      "Your data have been extrapolated to 2013.\n",
      "You loaded data for 2009.\n",
      "Your data have been extrapolated to 2013.\n",
      "You loaded data for 2009.\n",
      "Your data have been extrapolated to 2013.\n",
      "You loaded data for 2009.\n",
      "Your data have been extrapolated to 2013.\n",
      "You loaded data for 2009.\n",
      "Your data have been extrapolated to 2013.\n",
      "You loaded data for 2009.\n",
      "Your data have been extrapolated to 2013.\n",
      "You loaded data for 2009.\n",
      "Your data have been extrapolated to 2013.\n",
      "You loaded data for 2009.\n",
      "Your data have been extrapolated to 2013.\n",
      "You loaded data for 2009.\n",
      "Your data have been extrapolated to 2013.\n",
      "You loaded data for 2009.\n",
      "Your data have been extrapolated to 2013.\n",
      "You loaded data for 2009.\n",
      "Your data have been extrapolated to 2013.\n",
      "You loaded data for 2009.\n",
      "Your data have been extrapolated to 2013.\n",
      "You loaded data for 2009.\n",
      "Your data have been extrapolated to 2013.\n"
     ]
    },
    {
     "data": {
      "text/plain": [
       "0.01533203125"
      ]
     },
     "execution_count": 16,
     "metadata": {},
     "output_type": "execute_result"
    }
   ],
   "source": [
    "reform_equiv(reform2, 0.0001)"
   ]
  },
  {
   "cell_type": "code",
   "execution_count": 17,
   "metadata": {
    "collapsed": false
   },
   "outputs": [
    {
     "name": "stdout",
     "output_type": "stream",
     "text": [
      "You loaded data for 2009.\n",
      "Your data have been extrapolated to 2013.\n",
      "You loaded data for 2009.\n",
      "Your data have been extrapolated to 2013.\n",
      "You loaded data for 2009.\n",
      "Your data have been extrapolated to 2013.\n",
      "You loaded data for 2009.\n",
      "Your data have been extrapolated to 2013.\n",
      "You loaded data for 2009.\n",
      "Your data have been extrapolated to 2013.\n",
      "You loaded data for 2009.\n",
      "Your data have been extrapolated to 2013.\n",
      "You loaded data for 2009.\n",
      "Your data have been extrapolated to 2013.\n",
      "You loaded data for 2009.\n",
      "Your data have been extrapolated to 2013.\n",
      "You loaded data for 2009.\n",
      "Your data have been extrapolated to 2013.\n",
      "You loaded data for 2009.\n",
      "Your data have been extrapolated to 2013.\n",
      "You loaded data for 2009.\n",
      "Your data have been extrapolated to 2013.\n",
      "You loaded data for 2009.\n",
      "Your data have been extrapolated to 2013.\n",
      "You loaded data for 2009.\n",
      "Your data have been extrapolated to 2013.\n",
      "You loaded data for 2009.\n",
      "Your data have been extrapolated to 2013.\n",
      "You loaded data for 2009.\n",
      "Your data have been extrapolated to 2013.\n",
      "You loaded data for 2009.\n",
      "Your data have been extrapolated to 2013.\n",
      "You loaded data for 2009.\n",
      "Your data have been extrapolated to 2013.\n",
      "You loaded data for 2009.\n",
      "Your data have been extrapolated to 2013.\n"
     ]
    },
    {
     "data": {
      "text/plain": [
       "0.020214843750000003"
      ]
     },
     "execution_count": 17,
     "metadata": {},
     "output_type": "execute_result"
    }
   ],
   "source": [
    "reform_equiv(reform3, 0.0001)"
   ]
  },
  {
   "cell_type": "code",
   "execution_count": 18,
   "metadata": {
    "collapsed": false
   },
   "outputs": [
    {
     "name": "stdout",
     "output_type": "stream",
     "text": [
      "You loaded data for 2009.\n",
      "Your data have been extrapolated to 2013.\n",
      "You loaded data for 2009.\n",
      "Your data have been extrapolated to 2013.\n",
      "You loaded data for 2009.\n",
      "Your data have been extrapolated to 2013.\n",
      "You loaded data for 2009.\n",
      "Your data have been extrapolated to 2013.\n",
      "You loaded data for 2009.\n",
      "Your data have been extrapolated to 2013.\n",
      "You loaded data for 2009.\n",
      "Your data have been extrapolated to 2013.\n",
      "You loaded data for 2009.\n",
      "Your data have been extrapolated to 2013.\n",
      "You loaded data for 2009.\n",
      "Your data have been extrapolated to 2013.\n",
      "You loaded data for 2009.\n",
      "Your data have been extrapolated to 2013.\n",
      "You loaded data for 2009.\n",
      "Your data have been extrapolated to 2013.\n",
      "You loaded data for 2009.\n",
      "Your data have been extrapolated to 2013.\n",
      "You loaded data for 2009.\n",
      "Your data have been extrapolated to 2013.\n",
      "You loaded data for 2009.\n",
      "Your data have been extrapolated to 2013.\n",
      "You loaded data for 2009.\n",
      "Your data have been extrapolated to 2013.\n",
      "You loaded data for 2009.\n",
      "Your data have been extrapolated to 2013.\n",
      "You loaded data for 2009.\n",
      "Your data have been extrapolated to 2013.\n",
      "You loaded data for 2009.\n",
      "Your data have been extrapolated to 2013.\n",
      "You loaded data for 2009.\n",
      "Your data have been extrapolated to 2013.\n"
     ]
    },
    {
     "data": {
      "text/plain": [
       "0.022167968750000003"
      ]
     },
     "execution_count": 18,
     "metadata": {},
     "output_type": "execute_result"
    }
   ],
   "source": [
    "reform_equiv(reform4, 0.0001)"
   ]
  },
  {
   "cell_type": "code",
   "execution_count": 19,
   "metadata": {
    "collapsed": false
   },
   "outputs": [
    {
     "name": "stdout",
     "output_type": "stream",
     "text": [
      "You loaded data for 2009.\n",
      "Your data have been extrapolated to 2013.\n",
      "You loaded data for 2009.\n",
      "Your data have been extrapolated to 2013.\n",
      "You loaded data for 2009.\n",
      "Your data have been extrapolated to 2013.\n",
      "You loaded data for 2009.\n",
      "Your data have been extrapolated to 2013.\n",
      "You loaded data for 2009.\n",
      "Your data have been extrapolated to 2013.\n",
      "You loaded data for 2009.\n",
      "Your data have been extrapolated to 2013.\n",
      "You loaded data for 2009.\n",
      "Your data have been extrapolated to 2013.\n",
      "You loaded data for 2009.\n",
      "Your data have been extrapolated to 2013.\n",
      "You loaded data for 2009.\n",
      "Your data have been extrapolated to 2013.\n",
      "You loaded data for 2009.\n",
      "Your data have been extrapolated to 2013.\n",
      "You loaded data for 2009.\n",
      "Your data have been extrapolated to 2013.\n",
      "You loaded data for 2009.\n",
      "Your data have been extrapolated to 2013.\n",
      "You loaded data for 2009.\n",
      "Your data have been extrapolated to 2013.\n",
      "You loaded data for 2009.\n",
      "Your data have been extrapolated to 2013.\n",
      "You loaded data for 2009.\n",
      "Your data have been extrapolated to 2013.\n",
      "You loaded data for 2009.\n",
      "Your data have been extrapolated to 2013.\n",
      "You loaded data for 2009.\n",
      "Your data have been extrapolated to 2013.\n",
      "You loaded data for 2009.\n",
      "Your data have been extrapolated to 2013.\n"
     ]
    },
    {
     "data": {
      "text/plain": [
       "0.019824218750000004"
      ]
     },
     "execution_count": 19,
     "metadata": {},
     "output_type": "execute_result"
    }
   ],
   "source": [
    "reform_equiv(reform5, 0.0001)"
   ]
  },
  {
   "cell_type": "code",
   "execution_count": 20,
   "metadata": {
    "collapsed": false
   },
   "outputs": [
    {
     "name": "stdout",
     "output_type": "stream",
     "text": [
      "You loaded data for 2009.\n",
      "Your data have been extrapolated to 2013.\n",
      "You loaded data for 2009.\n",
      "Your data have been extrapolated to 2013.\n",
      "You loaded data for 2009.\n",
      "Your data have been extrapolated to 2013.\n",
      "You loaded data for 2009.\n",
      "Your data have been extrapolated to 2013.\n",
      "You loaded data for 2009.\n",
      "Your data have been extrapolated to 2013.\n",
      "You loaded data for 2009.\n",
      "Your data have been extrapolated to 2013.\n",
      "You loaded data for 2009.\n",
      "Your data have been extrapolated to 2013.\n",
      "You loaded data for 2009.\n",
      "Your data have been extrapolated to 2013.\n",
      "You loaded data for 2009.\n",
      "Your data have been extrapolated to 2013.\n",
      "You loaded data for 2009.\n",
      "Your data have been extrapolated to 2013.\n",
      "You loaded data for 2009.\n",
      "Your data have been extrapolated to 2013.\n",
      "You loaded data for 2009.\n",
      "Your data have been extrapolated to 2013.\n",
      "You loaded data for 2009.\n",
      "Your data have been extrapolated to 2013.\n",
      "You loaded data for 2009.\n",
      "Your data have been extrapolated to 2013.\n",
      "You loaded data for 2009.\n",
      "Your data have been extrapolated to 2013.\n",
      "You loaded data for 2009.\n",
      "Your data have been extrapolated to 2013.\n",
      "You loaded data for 2009.\n",
      "Your data have been extrapolated to 2013.\n",
      "You loaded data for 2009.\n",
      "Your data have been extrapolated to 2013.\n"
     ]
    },
    {
     "data": {
      "text/plain": [
       "0.00791015625"
      ]
     },
     "execution_count": 20,
     "metadata": {},
     "output_type": "execute_result"
    }
   ],
   "source": [
    "reform_equiv(reform6, 0.0001)"
   ]
  },
  {
   "cell_type": "code",
   "execution_count": 21,
   "metadata": {
    "collapsed": false
   },
   "outputs": [
    {
     "name": "stdout",
     "output_type": "stream",
     "text": [
      "You loaded data for 2009.\n",
      "Your data have been extrapolated to 2013.\n",
      "You loaded data for 2009.\n",
      "Your data have been extrapolated to 2013.\n",
      "You loaded data for 2009.\n",
      "Your data have been extrapolated to 2013.\n",
      "You loaded data for 2009.\n",
      "Your data have been extrapolated to 2013.\n",
      "You loaded data for 2009.\n",
      "Your data have been extrapolated to 2013.\n",
      "You loaded data for 2009.\n",
      "Your data have been extrapolated to 2013.\n",
      "You loaded data for 2009.\n",
      "Your data have been extrapolated to 2013.\n",
      "You loaded data for 2009.\n",
      "Your data have been extrapolated to 2013.\n",
      "You loaded data for 2009.\n",
      "Your data have been extrapolated to 2013.\n",
      "You loaded data for 2009.\n",
      "Your data have been extrapolated to 2013.\n",
      "You loaded data for 2009.\n",
      "Your data have been extrapolated to 2013.\n",
      "You loaded data for 2009.\n",
      "Your data have been extrapolated to 2013.\n",
      "You loaded data for 2009.\n",
      "Your data have been extrapolated to 2013.\n",
      "You loaded data for 2009.\n",
      "Your data have been extrapolated to 2013.\n",
      "You loaded data for 2009.\n",
      "Your data have been extrapolated to 2013.\n",
      "You loaded data for 2009.\n",
      "Your data have been extrapolated to 2013.\n",
      "You loaded data for 2009.\n",
      "Your data have been extrapolated to 2013.\n",
      "You loaded data for 2009.\n",
      "Your data have been extrapolated to 2013.\n"
     ]
    },
    {
     "data": {
      "text/plain": [
       "0.01376953125"
      ]
     },
     "execution_count": 21,
     "metadata": {},
     "output_type": "execute_result"
    }
   ],
   "source": [
    "reform_equiv(reform7, 0.0001)"
   ]
  },
  {
   "cell_type": "code",
   "execution_count": 22,
   "metadata": {
    "collapsed": false
   },
   "outputs": [
    {
     "name": "stdout",
     "output_type": "stream",
     "text": [
      "You loaded data for 2009.\n",
      "Your data have been extrapolated to 2013.\n",
      "You loaded data for 2009.\n",
      "Your data have been extrapolated to 2013.\n",
      "You loaded data for 2009.\n",
      "Your data have been extrapolated to 2013.\n",
      "You loaded data for 2009.\n",
      "Your data have been extrapolated to 2013.\n",
      "You loaded data for 2009.\n",
      "Your data have been extrapolated to 2013.\n",
      "You loaded data for 2009.\n",
      "Your data have been extrapolated to 2013.\n",
      "You loaded data for 2009.\n",
      "Your data have been extrapolated to 2013.\n",
      "You loaded data for 2009.\n",
      "Your data have been extrapolated to 2013.\n",
      "You loaded data for 2009.\n",
      "Your data have been extrapolated to 2013.\n",
      "You loaded data for 2009.\n",
      "Your data have been extrapolated to 2013.\n",
      "You loaded data for 2009.\n",
      "Your data have been extrapolated to 2013.\n",
      "You loaded data for 2009.\n",
      "Your data have been extrapolated to 2013.\n",
      "You loaded data for 2009.\n",
      "Your data have been extrapolated to 2013.\n",
      "You loaded data for 2009.\n",
      "Your data have been extrapolated to 2013.\n",
      "You loaded data for 2009.\n",
      "Your data have been extrapolated to 2013.\n",
      "You loaded data for 2009.\n",
      "Your data have been extrapolated to 2013.\n",
      "You loaded data for 2009.\n",
      "Your data have been extrapolated to 2013.\n",
      "You loaded data for 2009.\n",
      "Your data have been extrapolated to 2013.\n"
     ]
    },
    {
     "data": {
      "text/plain": [
       "0.02529296875"
      ]
     },
     "execution_count": 22,
     "metadata": {},
     "output_type": "execute_result"
    }
   ],
   "source": [
    "reform_equiv(reform8, 0.0001)"
   ]
  },
  {
   "cell_type": "code",
   "execution_count": null,
   "metadata": {
    "collapsed": true
   },
   "outputs": [],
   "source": []
  }
 ],
 "metadata": {
  "kernelspec": {
   "display_name": "Python 2",
   "language": "python",
   "name": "python2"
  },
  "language_info": {
   "codemirror_mode": {
    "name": "ipython",
    "version": 2
   },
   "file_extension": ".py",
   "mimetype": "text/x-python",
   "name": "python",
   "nbconvert_exporter": "python",
   "pygments_lexer": "ipython2",
   "version": "2.7.11"
  }
 },
 "nbformat": 4,
 "nbformat_minor": 0
}

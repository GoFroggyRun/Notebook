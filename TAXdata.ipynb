{
 "cells": [
  {
   "cell_type": "code",
   "execution_count": 1,
   "metadata": {
    "collapsed": true
   },
   "outputs": [],
   "source": [
    "import pandas as pd\n",
    "import numpy as np \n",
    "import sys\n",
    "sys.path.append(\"../tax-calculator\")\n",
    "from taxcalc.records import Records\n",
    "from taxcalc import Policy, Records, Calculator, Behavior, behavior\n",
    "from taxcalc.utils import *\n",
    "from numpy.testing import assert_array_almost_equal\n",
    "import matplotlib\n",
    "import matplotlib.pyplot as plt \n",
    "from matplotlib.transforms import BlendedGenericTransform\n",
    "%matplotlib inline\n",
    "import copy"
   ]
  },
  {
   "cell_type": "code",
   "execution_count": 2,
   "metadata": {
    "collapsed": false
   },
   "outputs": [
    {
     "name": "stdout",
     "output_type": "stream",
     "text": [
      "You loaded data for 2009.\n",
      "Your data have been extrapolated to 2013.\n",
      "You loaded data for 2009.\n",
      "Your data have been extrapolated to 2013.\n"
     ]
    }
   ],
   "source": [
    "puf = pd.read_csv(\"../tax-calculator/puf.csv\")\n",
    "policy_base = Policy()\n",
    "records_base = Records(puf)\n",
    "\n",
    "policy_reform = Policy()\n",
    "records_reform = Records(puf)\n",
    "\n",
    "calcbase = Calculator(policy = policy_base, records = records_base)\n",
    "calcreform = Calculator(policy = policy_reform, records = records_reform)"
   ]
  },
  {
   "cell_type": "code",
   "execution_count": 3,
   "metadata": {
    "collapsed": true
   },
   "outputs": [],
   "source": [
    "reform = {\n",
    "          2015:{\n",
    "        \"_ID_InterestPaid_HC\":[0.5],\n",
    "        \"_ID_StateLocalTax_HC\":[0.5],\n",
    "        \"_ID_Charity_HC\":[0.5]\n",
    "    }\n",
    "}\n",
    "policy_reform.implement_reform(reform)"
   ]
  },
  {
   "cell_type": "code",
   "execution_count": 4,
   "metadata": {
    "collapsed": true
   },
   "outputs": [],
   "source": [
    "calcbase.advance_to_year(2015)\n",
    "calcreform.advance_to_year(2015)"
   ]
  },
  {
   "cell_type": "code",
   "execution_count": 5,
   "metadata": {
    "collapsed": true
   },
   "outputs": [],
   "source": [
    "calcbase.calc_all()\n",
    "calcreform.calc_all()"
   ]
  },
  {
   "cell_type": "code",
   "execution_count": 6,
   "metadata": {
    "collapsed": true
   },
   "outputs": [],
   "source": [
    "def agg_diff(calcX, calcY):\n",
    "    df_x = results(calcX)\n",
    "    df_y = results(calcY)\n",
    "    \n",
    "    agg_x = sum(df_x['_combined']*df_x['s006'])\n",
    "    agg_y = sum(df_y['_combined']*df_y['s006'])\n",
    "    \n",
    "    agg_diif = agg_y - agg_x\n",
    "\n",
    "    agg_diif.tofile('agg_diif.csv',sep=',',format='%1.3f')"
   ]
  },
  {
   "cell_type": "code",
   "execution_count": 7,
   "metadata": {
    "collapsed": true
   },
   "outputs": [],
   "source": [
    "agg_diff(calcbase,calcreform)"
   ]
  },
  {
   "cell_type": "code",
   "execution_count": null,
   "metadata": {
    "collapsed": true
   },
   "outputs": [],
   "source": []
  },
  {
   "cell_type": "code",
   "execution_count": 11,
   "metadata": {
    "collapsed": false
   },
   "outputs": [],
   "source": [
    "def agg_num_delta(calcX, calcY):\n",
    "    df_x = results(calcX)\n",
    "    df_y = results(calcY)\n",
    "    \n",
    "    id_itemizers_x = ((calcX.records.c04470 > 0) & (calcX.records.c00100 > 0))\n",
    "    id_itemizers_y = ((calcY.records.c04470 > 0) & (calcY.records.c00100 > 0))\n",
    "    df_x['pct_itm'] = id_itemizers_x\n",
    "    df_y['pct_itm'] = id_itemizers_y\n",
    "    \n",
    "    itm_x = sum(df_x['pct_itm'] * df_x['s006'])\n",
    "    itm_y = sum(df_y['pct_itm'] * df_y['s006'])\n",
    "    \n",
    "    agg_num_delta = itm_y - itm_x\n",
    "\n",
    "    agg_num_delta.tofile('agg_num_delta.csv',sep=',',format='%1.3f')"
   ]
  },
  {
   "cell_type": "code",
   "execution_count": 12,
   "metadata": {
    "collapsed": false
   },
   "outputs": [],
   "source": [
    "agg_num_delta(calcbase,calcreform)"
   ]
  },
  {
   "cell_type": "code",
   "execution_count": null,
   "metadata": {
    "collapsed": true
   },
   "outputs": [],
   "source": []
  }
 ],
 "metadata": {
  "kernelspec": {
   "display_name": "Python 2",
   "language": "python",
   "name": "python2"
  },
  "language_info": {
   "codemirror_mode": {
    "name": "ipython",
    "version": 2
   },
   "file_extension": ".py",
   "mimetype": "text/x-python",
   "name": "python",
   "nbconvert_exporter": "python",
   "pygments_lexer": "ipython2",
   "version": "2.7.11"
  }
 },
 "nbformat": 4,
 "nbformat_minor": 0
}

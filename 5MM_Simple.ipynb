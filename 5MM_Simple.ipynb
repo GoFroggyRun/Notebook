{
 "cells": [
  {
   "cell_type": "code",
   "execution_count": 1,
   "metadata": {
    "collapsed": false
   },
   "outputs": [],
   "source": [
    "import pandas as pd\n",
    "import numpy as np \n",
    "import sys\n",
    "sys.path.append(\"../tax-calculator\")\n",
    "from taxcalc.records import Records\n",
    "from taxcalc import Policy, Records, Calculator, Behavior, behavior\n",
    "from taxcalc.utils import *\n",
    "from numpy.testing import assert_array_almost_equal\n",
    "import matplotlib\n",
    "import matplotlib.pyplot as plt \n",
    "from matplotlib.transforms import BlendedGenericTransform\n",
    "%matplotlib inline\n",
    "import copy\n",
    "import itertools"
   ]
  },
  {
   "cell_type": "code",
   "execution_count": 2,
   "metadata": {
    "collapsed": false
   },
   "outputs": [
    {
     "name": "stdout",
     "output_type": "stream",
     "text": [
      "You loaded data for 2009.\n",
      "Your data have been extrapolated to 2013.\n",
      "You loaded data for 2009.\n",
      "Your data have been extrapolated to 2013.\n",
      "You loaded data for 2009.\n",
      "Your data have been extrapolated to 2013.\n"
     ]
    }
   ],
   "source": [
    "puf = pd.read_csv(\"../tax-calculator/puf.csv\")\n",
    "policy_base = Policy()\n",
    "records_base = Records(puf)\n",
    "\n",
    "policy_reform = Policy()\n",
    "records_reform = Records(puf)\n",
    "\n",
    "policy_org = Policy()\n",
    "records_org = Records(puf)\n",
    "\n",
    "calcbase = Calculator(policy = policy_base, records = records_base)\n",
    "calcreform = Calculator(policy = policy_reform, records = records_reform)\n",
    "calcori = Calculator(policy = policy_org, records = records_org)"
   ]
  },
  {
   "cell_type": "code",
   "execution_count": 3,
   "metadata": {
    "collapsed": true
   },
   "outputs": [],
   "source": [
    "reform_5mm = {\n",
    "    2017: {'_II_rt8': [0.436],\n",
    "           '_II_brk7': [[5000000, 5000000, 5000000, 5000000, 5000000, 5000000]],\n",
    "           '_CG_rt4':[0.24],\n",
    "           '_CG_thd3': [[5000000, 5000000, 5000000, 5000000, 5000000, 5000000]],\n",
    "           '_AMT_CG_rt4':[0.24],\n",
    "           '_AMT_CG_thd3': [[5000000, 5000000, 5000000, 5000000, 5000000, 5000000]]\n",
    "        }}\n",
    "policy_reform.implement_reform(reform_5mm)\n",
    "calcreform.advance_to_year(2017)\n",
    "calcbase.advance_to_year(2017)"
   ]
  },
  {
   "cell_type": "code",
   "execution_count": 4,
   "metadata": {
    "collapsed": true
   },
   "outputs": [],
   "source": [
    "calcbase.calc_all()\n",
    "calcreform.calc_all()"
   ]
  },
  {
   "cell_type": "code",
   "execution_count": 5,
   "metadata": {
    "collapsed": true
   },
   "outputs": [],
   "source": [
    "EPSILON = 1e-3"
   ]
  },
  {
   "cell_type": "code",
   "execution_count": 6,
   "metadata": {
    "collapsed": false
   },
   "outputs": [],
   "source": [
    "source1 = get_mtr_data(calcbase,calcreform, MARS = 1,weights = wage_weighted, tab = 'e00200')"
   ]
  },
  {
   "cell_type": "code",
   "execution_count": 6,
   "metadata": {
    "collapsed": true
   },
   "outputs": [],
   "source": [
    "def get_mtr_data(calcX, calcY, MARS='ALL', weights='weighted_mean',\n",
    "                 tab='e00200', mtr_measure='IIT', complex_weight=False):\n",
    "    df_x = results(calcX)\n",
    "    df_y = results(calcY)\n",
    "\n",
    "    a, mtr_iit_x, mtr_combined_x = calcX.mtr()\n",
    "    a, mtr_iit_y, mtr_combined_y = calcY.mtr()\n",
    "    df_x['mtr_iit'] = mtr_iit_x\n",
    "    df_y['mtr_iit'] = mtr_iit_y\n",
    "    df_x['mtr_combined'] = mtr_combined_x\n",
    "    df_y['mtr_combined'] = mtr_combined_y\n",
    "\n",
    "    df_y[tab] = df_x[tab]\n",
    "\n",
    "    if complex_weight:\n",
    "        df_x = add_weighted_decile_bins(df_x, tab, 100, complex_weight=True)\n",
    "        df_y = add_weighted_decile_bins(df_y, tab, 100, complex_weight=True)\n",
    "    else:\n",
    "        df_x = add_weighted_decile_bins(df_x, tab, 100)\n",
    "        df_y = add_weighted_decile_bins(df_y, tab, 100)\n",
    "\n",
    "    if MARS == 'ALL':\n",
    "        df_filtered_x = df_x.copy()\n",
    "        df_filtered_y = df_y.copy()\n",
    "    else:\n",
    "        df_filtered_x = df_x[(df_x['MARS'] == MARS)].copy()\n",
    "        df_filtered_y = df_y[(df_y['MARS'] == MARS)].copy()\n",
    "\n",
    "    gp_x = df_filtered_x.groupby('bins', as_index=False)\n",
    "    gp_y = df_filtered_y.groupby('bins', as_index=False)\n",
    "\n",
    "    if mtr_measure == 'combined':\n",
    "        wgtpct_x = gp_x.apply(weights, 'mtr_combined')\n",
    "        wgtpct_y = gp_y.apply(weights, 'mtr_combined')\n",
    "    elif mtr_measure == 'IIT':\n",
    "        wgtpct_x = gp_x.apply(weights, 'mtr_iit')\n",
    "        wgtpct_y = gp_y.apply(weights, 'mtr_iit')\n",
    "\n",
    "    wpct_x = DataFrame(data=wgtpct_x, columns=['w_mtr'])\n",
    "    wpct_y = DataFrame(data=wgtpct_y, columns=['w_mtr'])\n",
    "\n",
    "    wpct_x['bins'] = np.arange(1, 101)\n",
    "    wpct_y['bins'] = np.arange(1, 101)\n",
    "\n",
    "    rsltx = pd.merge(df_filtered_x[['bins']], wpct_x, how='left')\n",
    "    rslty = pd.merge(df_filtered_y[['bins']], wpct_y, how='left')\n",
    "\n",
    "    df_filtered_x['w_mtr'] = rsltx['w_mtr'].values\n",
    "    df_filtered_y['w_mtr'] = rslty['w_mtr'].values\n",
    "\n",
    "    df_filtered_x.drop_duplicates(subset='bins', inplace=True)\n",
    "    df_filtered_y.drop_duplicates(subset='bins', inplace=True)\n",
    "\n",
    "    df_filtered_x = df_filtered_x['w_mtr']\n",
    "    df_filtered_y = df_filtered_y['w_mtr']\n",
    "\n",
    "    merged = pd.concat([df_filtered_x, df_filtered_y], axis=1,\n",
    "                       ignore_index=True)\n",
    "    merged.columns = ['base', 'reform']\n",
    "\n",
    "    return merged"
   ]
  },
  {
   "cell_type": "code",
   "execution_count": 7,
   "metadata": {
    "collapsed": false
   },
   "outputs": [
    {
     "ename": "AttributeError",
     "evalue": "'str' object has no attribute '__module__'",
     "output_type": "error",
     "traceback": [
      "\u001b[0;31m---------------------------------------------------------------------------\u001b[0m",
      "\u001b[0;31mAttributeError\u001b[0m                            Traceback (most recent call last)",
      "\u001b[0;32m<ipython-input-7-3912ac84f2b9>\u001b[0m in \u001b[0;36m<module>\u001b[0;34m()\u001b[0m\n\u001b[0;32m----> 1\u001b[0;31m \u001b[0msource2\u001b[0m \u001b[0;34m=\u001b[0m \u001b[0mget_mtr_data\u001b[0m\u001b[0;34m(\u001b[0m\u001b[0mcalcbase\u001b[0m\u001b[0;34m,\u001b[0m\u001b[0mcalcbase\u001b[0m\u001b[0;34m,\u001b[0m \u001b[0mMARS\u001b[0m \u001b[0;34m=\u001b[0m \u001b[0;36m1\u001b[0m\u001b[0;34m,\u001b[0m \u001b[0mincome_measure\u001b[0m \u001b[0;34m=\u001b[0m \u001b[0;34m'e00200'\u001b[0m\u001b[0;34m,\u001b[0m \u001b[0mcomplex_weight\u001b[0m \u001b[0;34m=\u001b[0m \u001b[0mTrue\u001b[0m\u001b[0;34m)\u001b[0m\u001b[0;34m\u001b[0m\u001b[0m\n\u001b[0m",
      "\u001b[0;32m/Users/seanwang/Documents/GIT/tax-calculator/taxcalc/utils.pyc\u001b[0m in \u001b[0;36mget_mtr_data\u001b[0;34m(calcX, calcY, MARS, weights, income_measure, mtr_measure, complex_weight)\u001b[0m\n\u001b[1;32m    679\u001b[0m         \u001b[0mwgtpct_y\u001b[0m \u001b[0;34m=\u001b[0m \u001b[0mgp_y\u001b[0m\u001b[0;34m.\u001b[0m\u001b[0mapply\u001b[0m\u001b[0;34m(\u001b[0m\u001b[0mweights\u001b[0m\u001b[0;34m,\u001b[0m \u001b[0;34m'mtr_combined'\u001b[0m\u001b[0;34m)\u001b[0m\u001b[0;34m\u001b[0m\u001b[0m\n\u001b[1;32m    680\u001b[0m     \u001b[0;32melif\u001b[0m \u001b[0mmtr_measure\u001b[0m \u001b[0;34m==\u001b[0m \u001b[0;34m'IIT'\u001b[0m\u001b[0;34m:\u001b[0m\u001b[0;34m\u001b[0m\u001b[0m\n\u001b[0;32m--> 681\u001b[0;31m         \u001b[0mwgtpct_x\u001b[0m \u001b[0;34m=\u001b[0m \u001b[0mgp_x\u001b[0m\u001b[0;34m.\u001b[0m\u001b[0mapply\u001b[0m\u001b[0;34m(\u001b[0m\u001b[0mweights\u001b[0m\u001b[0;34m,\u001b[0m \u001b[0;34m'mtr_iit'\u001b[0m\u001b[0;34m)\u001b[0m\u001b[0;34m\u001b[0m\u001b[0m\n\u001b[0m\u001b[1;32m    682\u001b[0m         \u001b[0mwgtpct_y\u001b[0m \u001b[0;34m=\u001b[0m \u001b[0mgp_y\u001b[0m\u001b[0;34m.\u001b[0m\u001b[0mapply\u001b[0m\u001b[0;34m(\u001b[0m\u001b[0mweights\u001b[0m\u001b[0;34m,\u001b[0m \u001b[0;34m'mtr_iit'\u001b[0m\u001b[0;34m)\u001b[0m\u001b[0;34m\u001b[0m\u001b[0m\n\u001b[1;32m    683\u001b[0m \u001b[0;34m\u001b[0m\u001b[0m\n",
      "\u001b[0;32m/Users/seanwang/anaconda2/envs/taxcalc-dev/lib/python2.7/site-packages/pandas/core/groupby.pyc\u001b[0m in \u001b[0;36mapply\u001b[0;34m(self, func, *args, **kwargs)\u001b[0m\n\u001b[1;32m    663\u001b[0m         \u001b[0mfunc\u001b[0m \u001b[0;34m=\u001b[0m \u001b[0m_intercept_function\u001b[0m\u001b[0;34m(\u001b[0m\u001b[0mfunc\u001b[0m\u001b[0;34m)\u001b[0m\u001b[0;34m\u001b[0m\u001b[0m\n\u001b[1;32m    664\u001b[0m \u001b[0;34m\u001b[0m\u001b[0m\n\u001b[0;32m--> 665\u001b[0;31m         \u001b[0;34m@\u001b[0m\u001b[0mwraps\u001b[0m\u001b[0;34m(\u001b[0m\u001b[0mfunc\u001b[0m\u001b[0;34m)\u001b[0m\u001b[0;34m\u001b[0m\u001b[0m\n\u001b[0m\u001b[1;32m    666\u001b[0m         \u001b[0;32mdef\u001b[0m \u001b[0mf\u001b[0m\u001b[0;34m(\u001b[0m\u001b[0mg\u001b[0m\u001b[0;34m)\u001b[0m\u001b[0;34m:\u001b[0m\u001b[0;34m\u001b[0m\u001b[0m\n\u001b[1;32m    667\u001b[0m             \u001b[0;32mreturn\u001b[0m \u001b[0mfunc\u001b[0m\u001b[0;34m(\u001b[0m\u001b[0mg\u001b[0m\u001b[0;34m,\u001b[0m \u001b[0;34m*\u001b[0m\u001b[0margs\u001b[0m\u001b[0;34m,\u001b[0m \u001b[0;34m**\u001b[0m\u001b[0mkwargs\u001b[0m\u001b[0;34m)\u001b[0m\u001b[0;34m\u001b[0m\u001b[0m\n",
      "\u001b[0;32m/Users/seanwang/anaconda2/envs/taxcalc-dev/lib/python2.7/functools.pyc\u001b[0m in \u001b[0;36mupdate_wrapper\u001b[0;34m(wrapper, wrapped, assigned, updated)\u001b[0m\n\u001b[1;32m     31\u001b[0m     \"\"\"\n\u001b[1;32m     32\u001b[0m     \u001b[0;32mfor\u001b[0m \u001b[0mattr\u001b[0m \u001b[0;32min\u001b[0m \u001b[0massigned\u001b[0m\u001b[0;34m:\u001b[0m\u001b[0;34m\u001b[0m\u001b[0m\n\u001b[0;32m---> 33\u001b[0;31m         \u001b[0msetattr\u001b[0m\u001b[0;34m(\u001b[0m\u001b[0mwrapper\u001b[0m\u001b[0;34m,\u001b[0m \u001b[0mattr\u001b[0m\u001b[0;34m,\u001b[0m \u001b[0mgetattr\u001b[0m\u001b[0;34m(\u001b[0m\u001b[0mwrapped\u001b[0m\u001b[0;34m,\u001b[0m \u001b[0mattr\u001b[0m\u001b[0;34m)\u001b[0m\u001b[0;34m)\u001b[0m\u001b[0;34m\u001b[0m\u001b[0m\n\u001b[0m\u001b[1;32m     34\u001b[0m     \u001b[0;32mfor\u001b[0m \u001b[0mattr\u001b[0m \u001b[0;32min\u001b[0m \u001b[0mupdated\u001b[0m\u001b[0;34m:\u001b[0m\u001b[0;34m\u001b[0m\u001b[0m\n\u001b[1;32m     35\u001b[0m         \u001b[0mgetattr\u001b[0m\u001b[0;34m(\u001b[0m\u001b[0mwrapper\u001b[0m\u001b[0;34m,\u001b[0m \u001b[0mattr\u001b[0m\u001b[0;34m)\u001b[0m\u001b[0;34m.\u001b[0m\u001b[0mupdate\u001b[0m\u001b[0;34m(\u001b[0m\u001b[0mgetattr\u001b[0m\u001b[0;34m(\u001b[0m\u001b[0mwrapped\u001b[0m\u001b[0;34m,\u001b[0m \u001b[0mattr\u001b[0m\u001b[0;34m,\u001b[0m \u001b[0;34m{\u001b[0m\u001b[0;34m}\u001b[0m\u001b[0;34m)\u001b[0m\u001b[0;34m)\u001b[0m\u001b[0;34m\u001b[0m\u001b[0m\n",
      "\u001b[0;31mAttributeError\u001b[0m: 'str' object has no attribute '__module__'"
     ]
    }
   ],
   "source": [
    "source2 = get_mtr_data(calcbase,calcbase, MARS = 1,weights = wage_weighted, income_measure = 'e00200', complex_weight = True)"
   ]
  },
  {
   "cell_type": "code",
   "execution_count": null,
   "metadata": {
    "collapsed": true
   },
   "outputs": [],
   "source": []
  },
  {
   "cell_type": "code",
   "execution_count": null,
   "metadata": {
    "collapsed": true
   },
   "outputs": [],
   "source": []
  },
  {
   "cell_type": "code",
   "execution_count": null,
   "metadata": {
    "collapsed": true
   },
   "outputs": [],
   "source": []
  },
  {
   "cell_type": "code",
   "execution_count": 6,
   "metadata": {
    "collapsed": true
   },
   "outputs": [],
   "source": [
    "from bokeh.models import Plot, Range1d, ImageURL, DataRange1d\n",
    "from bokeh.embed import components\n",
    "from bokeh.layouts import layout\n",
    "from bokeh.plotting import figure, hplot, vplot, output_file, show\n",
    "from bokeh.models import (ColumnDataSource, LogAxis, LinearAxis, Rect, FactorRange,\n",
    "                          CategoricalAxis, Line, Text, Square, HoverTool)\n",
    "\n",
    "from styles import (PLOT_FORMATS,\n",
    "                    AXIS_FORMATS,\n",
    "                    FONT_PROPS_SM,\n",
    "                    DARK_GRAY,\n",
    "                    GREEN,\n",
    "                    PURPLE,\n",
    "                    RED,\n",
    "                    BLUE)"
   ]
  },
  {
   "cell_type": "code",
   "execution_count": 10,
   "metadata": {
    "collapsed": true
   },
   "outputs": [],
   "source": [
    "plot_width = 425\n",
    "plot_height = 250\n",
    "text_plot_height = 50"
   ]
  },
  {
   "cell_type": "code",
   "execution_count": 6,
   "metadata": {
    "collapsed": false
   },
   "outputs": [],
   "source": [
    "mtr_plot(source2)"
   ]
  },
  {
   "cell_type": "code",
   "execution_count": 11,
   "metadata": {
    "collapsed": false
   },
   "outputs": [],
   "source": [
    "QQ = figure(plot_width=plot_width,\n",
    "             plot_height=plot_height,\n",
    "             title='Effect of Surtax Proposal on Marginal Tax Rate in 2017')\n",
    "\n",
    "QQ.line( (source2.reset_index()).index,(source2.reset_index()).base,line_color=BLUE,\n",
    "                     line_width=0.8,\n",
    "                     line_alpha=.8, legend=\"Base\")\n",
    "\n",
    "QQ.line( (source2.reset_index()).index,(source2.reset_index()).reform,line_color=RED,\n",
    "                     line_width=0.8,\n",
    "                     line_alpha=1, legend=\"Reform\")\n",
    "\n",
    "QQ.legend.label_text_font = \"times\"\n",
    "QQ.legend.label_text_font_style = \"italic\"\n",
    "QQ.legend.location = \"top_left\"\n",
    "\n",
    "QQ.legend.label_width = 2\n",
    "QQ.legend.label_height = 2\n",
    "QQ.legend.label_standoff = 2\n",
    "QQ.legend.glyph_width = 14\n",
    "QQ.legend.glyph_height = 14\n",
    "QQ.legend.legend_spacing = 5\n",
    "QQ.legend.legend_padding = 5\n",
    "QQ.yaxis.axis_label = 'Avg. MTR on Wage Income'\n",
    "QQ.xaxis.axis_label = 'Percentile of Economic Activity'"
   ]
  },
  {
   "cell_type": "code",
   "execution_count": 12,
   "metadata": {
    "collapsed": false
   },
   "outputs": [
    {
     "data": {
      "text/plain": [
       "<bokeh.plotting.figure.Figure at 0x1502e5310>"
      ]
     },
     "execution_count": 12,
     "metadata": {},
     "output_type": "execute_result"
    }
   ],
   "source": [
    "QQ"
   ]
  },
  {
   "cell_type": "code",
   "execution_count": 14,
   "metadata": {
    "collapsed": true
   },
   "outputs": [],
   "source": [
    "show(PP)"
   ]
  },
  {
   "cell_type": "code",
   "execution_count": 15,
   "metadata": {
    "collapsed": true
   },
   "outputs": [],
   "source": [
    "a, mtr_base, b = calcbase.mtr()"
   ]
  },
  {
   "cell_type": "code",
   "execution_count": 16,
   "metadata": {
    "collapsed": false
   },
   "outputs": [
    {
     "data": {
      "text/plain": [
       "0.23746676486594379"
      ]
     },
     "execution_count": 16,
     "metadata": {},
     "output_type": "execute_result"
    }
   ],
   "source": [
    "(calcbase.records.s006 * mtr_base * calcbase.records.e00200).sum()/(calcbase.records.s006 * calcbase.records.e00200).sum()"
   ]
  },
  {
   "cell_type": "code",
   "execution_count": 17,
   "metadata": {
    "collapsed": false
   },
   "outputs": [],
   "source": [
    "a, mtr_rfm, b = calcreform.mtr()"
   ]
  },
  {
   "cell_type": "code",
   "execution_count": 18,
   "metadata": {
    "collapsed": false
   },
   "outputs": [
    {
     "data": {
      "text/plain": [
       "0.23830699688009577"
      ]
     },
     "execution_count": 18,
     "metadata": {},
     "output_type": "execute_result"
    }
   ],
   "source": [
    "(calcreform.records.s006 * mtr_rfm * calcreform.records.e00200).sum()/(calcreform.records.s006 * calcreform.records.e00200).sum()"
   ]
  },
  {
   "cell_type": "code",
   "execution_count": null,
   "metadata": {
    "collapsed": true
   },
   "outputs": [],
   "source": []
  },
  {
   "cell_type": "code",
   "execution_count": 41,
   "metadata": {
    "collapsed": false
   },
   "outputs": [],
   "source": [
    "II = [calcbase.policy.II_brk1, calcbase.policy.II_brk2, calcbase.policy.II_brk3, calcbase.policy.II_brk4, calcbase.policy.II_brk5, calcbase.policy.II_brk6, calcbase.policy.II_brk7]"
   ]
  },
  {
   "cell_type": "code",
   "execution_count": 35,
   "metadata": {
    "collapsed": false
   },
   "outputs": [
    {
     "data": {
      "text/plain": [
       "13150.0"
      ]
     },
     "execution_count": 35,
     "metadata": {},
     "output_type": "execute_result"
    }
   ],
   "source": [
    "calcbase.policy._II_brk1[2,3]"
   ]
  },
  {
   "cell_type": "code",
   "execution_count": 42,
   "metadata": {
    "collapsed": false
   },
   "outputs": [
    {
     "data": {
      "text/plain": [
       "array([  9.12150000e+99,   9.12150000e+99,   9.12150000e+99,\n",
       "         9.12150000e+99,   9.12150000e+99,   9.12150000e+99])"
      ]
     },
     "execution_count": 42,
     "metadata": {},
     "output_type": "execute_result"
    }
   ],
   "source": [
    "II[6]"
   ]
  },
  {
   "cell_type": "code",
   "execution_count": null,
   "metadata": {
    "collapsed": true
   },
   "outputs": [],
   "source": []
  },
  {
   "cell_type": "code",
   "execution_count": null,
   "metadata": {
    "collapsed": true
   },
   "outputs": [],
   "source": []
  },
  {
   "cell_type": "code",
   "execution_count": 3,
   "metadata": {
    "collapsed": true
   },
   "outputs": [],
   "source": [
    "calcreform.advance_to_year(2013)\n",
    "calcbase.advance_to_year(2014)\n",
    "calcbase.calc_all()\n",
    "calcreform.calc_all()"
   ]
  },
  {
   "cell_type": "code",
   "execution_count": 14,
   "metadata": {
    "collapsed": false
   },
   "outputs": [
    {
     "data": {
      "text/plain": [
       "0.057690758617813233"
      ]
     },
     "execution_count": 14,
     "metadata": {},
     "output_type": "execute_result"
    }
   ],
   "source": [
    "agi_ratio_5mm = (calcbase.records.c00100[calcbase.records.c00100 >= 5000000]*calcbase.records.s006[calcbase.records.c00100 >= 5000000]).sum()/ (calcbase.records.c00100 *calcbase.records.s006).sum()\n",
    "agi_ratio_5mm"
   ]
  },
  {
   "cell_type": "code",
   "execution_count": 15,
   "metadata": {
    "collapsed": false
   },
   "outputs": [
    {
     "data": {
      "text/plain": [
       "0.076393693262004403"
      ]
     },
     "execution_count": 15,
     "metadata": {},
     "output_type": "execute_result"
    }
   ],
   "source": [
    "taxable_5mm = (calcbase.records.c04800[calcbase.records.c00100 >= 5000000]*calcbase.records.s006[calcbase.records.c00100 >= 5000000]).sum()/ (calcbase.records.c04800 *calcbase.records.s006).sum()\n",
    "taxable_5mm"
   ]
  },
  {
   "cell_type": "code",
   "execution_count": 5,
   "metadata": {
    "collapsed": false
   },
   "outputs": [
    {
     "data": {
      "text/plain": [
       "0.049192354585735024"
      ]
     },
     "execution_count": 5,
     "metadata": {},
     "output_type": "execute_result"
    }
   ],
   "source": [
    "agi_ratio_5mm = (calcreform.records.c00100[calcreform.records.c00100 >= 5000000]*calcreform.records.s006[calcreform.records.c00100 >= 5000000]).sum()/ (calcreform.records.c00100 *calcreform.records.s006).sum()\n",
    "agi_ratio_5mm"
   ]
  },
  {
   "cell_type": "code",
   "execution_count": 6,
   "metadata": {
    "collapsed": false
   },
   "outputs": [
    {
     "data": {
      "text/plain": [
       "0.06536916725892182"
      ]
     },
     "execution_count": 6,
     "metadata": {},
     "output_type": "execute_result"
    }
   ],
   "source": [
    "taxable_5mm = (calcreform.records.c04800[calcreform.records.c00100 >= 5000000]*calcreform.records.s006[calcreform.records.c00100 >= 5000000]).sum()/ (calcreform.records.c04800 *calcreform.records.s006).sum()\n",
    "taxable_5mm"
   ]
  },
  {
   "cell_type": "code",
   "execution_count": null,
   "metadata": {
    "collapsed": true
   },
   "outputs": [],
   "source": []
  }
 ],
 "metadata": {
  "kernelspec": {
   "display_name": "Python 2",
   "language": "python",
   "name": "python2"
  },
  "language_info": {
   "codemirror_mode": {
    "name": "ipython",
    "version": 2
   },
   "file_extension": ".py",
   "mimetype": "text/x-python",
   "name": "python",
   "nbconvert_exporter": "python",
   "pygments_lexer": "ipython2",
   "version": "2.7.11"
  }
 },
 "nbformat": 4,
 "nbformat_minor": 0
}

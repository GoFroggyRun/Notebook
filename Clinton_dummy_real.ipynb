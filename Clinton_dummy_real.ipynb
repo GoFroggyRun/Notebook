{
 "cells": [
  {
   "cell_type": "code",
   "execution_count": 1,
   "metadata": {
    "collapsed": false
   },
   "outputs": [],
   "source": [
    "from __future__ import print_function\n",
    "import pandas as pd\n",
    "import numpy as np\n",
    "import sys\n",
    "sys.path.append(\"../tax-calculator\")\n",
    "from taxcalc.records import Records\n",
    "from taxcalc import Policy, Records, Calculator\n",
    "from taxcalc.utils import *\n",
    "from taxcalc.records import Records\n",
    "from taxcalc import Policy, Records, Calculator, Behavior, behavior, Growth\n",
    "\n",
    "CURRENT_YEAR = 2016\n",
    "\n",
    "\n",
    "def run_reform(name, reform, growth, behave):\n",
    "\n",
    "        puf = pd.read_csv(\"../tax-calculator/puf.csv\")\n",
    "        policy_base = Policy(start_year=2013)\n",
    "        records_base = Records(puf)\n",
    "        policy_reform = Policy()\n",
    "        records_reform = Records(puf)\n",
    "        bhv = Behavior()\n",
    "        grow = Growth()\n",
    "        calcbase = Calculator(policy = policy_base, records = records_base)\n",
    "        calcreform = Calculator(policy = policy_reform, records = records_reform, behavior = bhv,  growth = grow)\n",
    "        policy_reform.implement_reform(reform)\n",
    "        grow.update_economic_growth(growth)\n",
    "        calcbase.advance_to_year(CURRENT_YEAR)\n",
    "        calcreform.advance_to_year(CURRENT_YEAR)\n",
    "        calcbase.calc_all()\n",
    "        calcreform.calc_all()\n",
    "        bhv.update_behavior(behave)\n",
    "        calc_behav = Behavior.response(calcbase, calcreform)\n",
    "        calc_behav.calc_all()\n",
    "        base_list = multiyear_diagnostic_table(calcbase, 10)\n",
    "        reform_list = multiyear_diagnostic_table(calc_behav, 10)\n",
    "        difflist = (base_list.iloc[18] - reform_list.iloc[18])\n",
    "\n",
    "        return difflist\n",
    "\n",
    "\n",
    "def get_source_data():\n",
    "        reform_values = (0.1, 0.11, 0.12,)\n",
    "        growth_values = (0.3, 0.5,)\n",
    "        behavioral_values = (0.3, 0.5,)\n",
    "        groups_ref = {}\n",
    "        groups_grow = {}\n",
    "        groups_beha = {}\n",
    "        for i in range(3):\n",
    "            for j in range(2):\n",
    "                for k in range(2):\n",
    "                    reform = {CURRENT_YEAR: {'_II_rt1': [reform_values[i]]}}\n",
    "                    reform_gr = {CURRENT_YEAR: {'_factor_adjustment': [growth_values[j]]}}\n",
    "                    reform_be = {CURRENT_YEAR: {'_BE_sub': [behavioral_values[k]]}}\n",
    "                    groups_ref[''.join(['ds_', str(i)])] = reform\n",
    "                    groups_grow[''.join(['ds_', str(j)])] = reform_gr\n",
    "                    groups_beha[''.join(['ds_', str(k)])] = reform_be\n",
    "        dataframes = {}\n",
    "        for name, reform in groups_ref.items():\n",
    "            for name1, growth in groups_grow.items():\n",
    "                for name2, behave in groups_beha.items():\n",
    "                    data = run_reform(name, reform, growth, behave)\n",
    "                    dataframes[name + name1 +name2 + 'diff'] = data\n",
    "        return dataframes\n"
   ]
  },
  {
   "cell_type": "code",
   "execution_count": 2,
   "metadata": {
    "collapsed": false
   },
   "outputs": [
    {
     "name": "stdout",
     "output_type": "stream",
     "text": [
      "You loaded data for 2009.\n",
      "Your data have been extrapolated to 2013.\n",
      "You loaded data for 2009.\n",
      "Your data have been extrapolated to 2013.\n",
      "You loaded data for 2009.\n",
      "Your data have been extrapolated to 2013.\n",
      "You loaded data for 2009.\n",
      "Your data have been extrapolated to 2013.\n",
      "You loaded data for 2009.\n",
      "Your data have been extrapolated to 2013.\n",
      "You loaded data for 2009.\n",
      "Your data have been extrapolated to 2013.\n",
      "You loaded data for 2009.\n",
      "Your data have been extrapolated to 2013.\n",
      "You loaded data for 2009.\n",
      "Your data have been extrapolated to 2013.\n",
      "You loaded data for 2009.\n",
      "Your data have been extrapolated to 2013.\n",
      "You loaded data for 2009.\n",
      "Your data have been extrapolated to 2013.\n",
      "You loaded data for 2009.\n",
      "Your data have been extrapolated to 2013.\n",
      "You loaded data for 2009.\n",
      "Your data have been extrapolated to 2013.\n",
      "You loaded data for 2009.\n",
      "Your data have been extrapolated to 2013.\n",
      "You loaded data for 2009.\n",
      "Your data have been extrapolated to 2013.\n",
      "You loaded data for 2009.\n",
      "Your data have been extrapolated to 2013.\n",
      "You loaded data for 2009.\n",
      "Your data have been extrapolated to 2013.\n",
      "You loaded data for 2009.\n",
      "Your data have been extrapolated to 2013.\n",
      "You loaded data for 2009.\n",
      "Your data have been extrapolated to 2013.\n",
      "You loaded data for 2009.\n",
      "Your data have been extrapolated to 2013.\n",
      "You loaded data for 2009.\n",
      "Your data have been extrapolated to 2013.\n",
      "You loaded data for 2009.\n",
      "Your data have been extrapolated to 2013.\n",
      "You loaded data for 2009.\n",
      "Your data have been extrapolated to 2013.\n",
      "You loaded data for 2009.\n",
      "Your data have been extrapolated to 2013.\n",
      "You loaded data for 2009.\n",
      "Your data have been extrapolated to 2013.\n"
     ]
    }
   ],
   "source": [
    "dumm = get_source_data()"
   ]
  },
  {
   "cell_type": "code",
   "execution_count": 3,
   "metadata": {
    "collapsed": true
   },
   "outputs": [],
   "source": [
    "from bokeh.models import Plot, Range1d, ImageURL, DataRange1d\n",
    "from bokeh.embed import components\n",
    "from bokeh.layouts import layout\n",
    "from bokeh.plotting import figure, hplot, vplot, output_file, show\n",
    "from bokeh.models import (ColumnDataSource, LogAxis, LinearAxis, Rect, FactorRange,DataSource,\n",
    "                          CategoricalAxis, Line, Text, Square, HoverTool)\n",
    "import locale\n",
    "import os\n",
    "import glob\n",
    "from jinja2 import Environment, FileSystemLoader\n",
    "from styles import (PLOT_FORMATS,\n",
    "                    AXIS_FORMATS,\n",
    "                    FONT_PROPS_SM,\n",
    "                    DARK_GRAY,\n",
    "                    GREEN,\n",
    "                    PURPLE,\n",
    "                    RED,\n",
    "                    BLUE)"
   ]
  },
  {
   "cell_type": "code",
   "execution_count": 26,
   "metadata": {
    "collapsed": true
   },
   "outputs": [],
   "source": [
    "source= DataFrame(data = dumm['ds_0ds_0ds_0diff'])"
   ]
  },
  {
   "cell_type": "code",
   "execution_count": 27,
   "metadata": {
    "collapsed": false
   },
   "outputs": [
    {
     "data": {
      "text/plain": [
       "<bokeh.models.renderers.GlyphRenderer at 0x13d4e0490>"
      ]
     },
     "execution_count": 27,
     "metadata": {},
     "output_type": "execute_result"
    }
   ],
   "source": [
    "\n",
    "def make_plot(source)\n",
    "    p1 = figure(x_range=(2017, 2025), y_range=(np.min(source['Combined Liability ($b)'].as_matrix()), np.max(source['Combined Liability ($b)'].as_matrix())),\n",
    "                    plot_width=600, plot_height=300,\n",
    "                    tools='')\n",
    "    p1.line(source.index, source['Combined Liability ($b)'],Line(line_color=RED,\n",
    "                             line_width=2,\n",
    "                             line_alpha=.8))\n",
    "    return p1"
   ]
  },
  {
   "cell_type": "code",
   "execution_count": 28,
   "metadata": {
    "collapsed": true
   },
   "outputs": [],
   "source": [
    "def call_back(attrname, old, new):\n",
    "    city = city_select.value\n",
    "    plot.title = cities[city]['title']\n",
    "\n",
    "    src = get_dataset(df, cities[city]['airport'], distribution_select.value)\n",
    "    for key in STATISTICS + ['left', 'right']:\n",
    "        source.data.update(src.data)"
   ]
  },
  {
   "cell_type": "code",
   "execution_count": 19,
   "metadata": {
    "collapsed": false
   },
   "outputs": [],
   "source": [
    "mi = df['Combined Liability ($b)'].as_matrix()"
   ]
  },
  {
   "cell_type": "code",
   "execution_count": 106,
   "metadata": {
    "collapsed": false
   },
   "outputs": [],
   "source": [
    "temp = df['Combined Liability ($b)']"
   ]
  },
  {
   "cell_type": "code",
   "execution_count": 111,
   "metadata": {
    "collapsed": false
   },
   "outputs": [
    {
     "data": {
      "text/plain": [
       "Int64Index([2016, 2017, 2018, 2019, 2020, 2021, 2022, 2023, 2024, 2025], dtype='int64')"
      ]
     },
     "execution_count": 111,
     "metadata": {},
     "output_type": "execute_result"
    }
   ],
   "source": [
    "df.index"
   ]
  },
  {
   "cell_type": "code",
   "execution_count": 34,
   "metadata": {
    "collapsed": false
   },
   "outputs": [],
   "source": [
    "for i in range(3):\n",
    "    stri = ''.join(['ds_', str(i)])\n",
    "    temmm = dumm[stri + 'ds_0ds_0diff']"
   ]
  },
  {
   "cell_type": "code",
   "execution_count": null,
   "metadata": {
    "collapsed": true
   },
   "outputs": [],
   "source": []
  }
 ],
 "metadata": {
  "kernelspec": {
   "display_name": "Python 3",
   "language": "python",
   "name": "python3"
  },
  "language_info": {
   "codemirror_mode": {
    "name": "ipython",
    "version": 3
   },
   "file_extension": ".py",
   "mimetype": "text/x-python",
   "name": "python",
   "nbconvert_exporter": "python",
   "pygments_lexer": "ipython3",
   "version": "3.5.2"
  }
 },
 "nbformat": 4,
 "nbformat_minor": 0
}

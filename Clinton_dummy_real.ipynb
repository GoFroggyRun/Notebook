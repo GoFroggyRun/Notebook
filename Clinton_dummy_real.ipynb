{
 "cells": [
  {
   "cell_type": "code",
   "execution_count": 1,
   "metadata": {
    "collapsed": false
   },
   "outputs": [],
   "source": [
    "import pandas as pd\n",
    "import numpy as np \n",
    "import sys\n",
    "sys.path.append(\"../tax-calculator\")\n",
    "from taxcalc.records import Records\n",
    "from taxcalc import Policy, Records, Calculator, Behavior, behavior, Growth\n",
    "from taxcalc.utils import *\n",
    "from numpy.testing import assert_array_almost_equal\n",
    "import matplotlib\n",
    "import matplotlib.pyplot as plt \n",
    "from matplotlib.transforms import BlendedGenericTransform\n",
    "%matplotlib inline\n",
    "import copy\n",
    "import itertools"
   ]
  },
  {
   "cell_type": "code",
   "execution_count": 2,
   "metadata": {
    "collapsed": false
   },
   "outputs": [
    {
     "name": "stdout",
     "output_type": "stream",
     "text": [
      "You loaded data for 2009.\n",
      "Your data have been extrapolated to 2013.\n",
      "You loaded data for 2009.\n",
      "Your data have been extrapolated to 2013.\n",
      "You loaded data for 2009.\n",
      "Your data have been extrapolated to 2013.\n"
     ]
    }
   ],
   "source": [
    "puf = pd.read_csv(\"../tax-calculator/true_puf.csv\")\n",
    "policy_base = Policy()\n",
    "records_base = Records(puf)\n",
    "\n",
    "policy_reform = Policy()\n",
    "records_reform = Records(puf)\n",
    "bhv = Behavior()\n",
    "grow = Growth()\n",
    "\n",
    "policy_reform2 = Policy()\n",
    "records_reform2 = Records(puf)\n",
    "bhv2 = Behavior()\n",
    "grow2 = Growth()\n",
    "\n",
    "\n",
    "calcbase = Calculator(policy = policy_base, records = records_base)\n",
    "calcreform = Calculator(policy = policy_reform, records = records_reform, behavior = bhv,  growth = grow)\n",
    "calcreform2 = Calculator(policy = policy_reform2, records = records_reform2, behavior = bhv2,  growth = grow2)\n"
   ]
  },
  {
   "cell_type": "code",
   "execution_count": 3,
   "metadata": {
    "collapsed": false
   },
   "outputs": [],
   "source": [
    "reform = {2016: {'_STD': [[6300,12600,6300,9300,12600, 6300, 1050]],\n",
    "                      '_II_rt1': [0.12],\n",
    "                     '_II_rt2': [0.12],\n",
    "                     '_II_rt3': [0.25],\n",
    "                     '_II_rt4': [0.25],\n",
    "                     '_II_rt5': [0.33],\n",
    "                     '_II_rt6': [0.33],\n",
    "                     '_II_rt7': [0.33],\n",
    "                    '_AMT_trt1':[0],\n",
    "                     '_AMT_trt2':[0]}\n",
    "                    }\n",
    "\n",
    "policy_reform.implement_reform(reform)\n",
    "grow.update_economic_growth({2016: {'_factor_adjustment': [0.5]}})"
   ]
  },
  {
   "cell_type": "code",
   "execution_count": 4,
   "metadata": {
    "collapsed": true
   },
   "outputs": [],
   "source": [
    "calcbase.advance_to_year(2016)\n",
    "calcreform.advance_to_year(2016)"
   ]
  },
  {
   "cell_type": "code",
   "execution_count": 5,
   "metadata": {
    "collapsed": true
   },
   "outputs": [],
   "source": [
    "calcbase.calc_all()\n",
    "calcreform.calc_all()"
   ]
  },
  {
   "cell_type": "code",
   "execution_count": 6,
   "metadata": {
    "collapsed": false
   },
   "outputs": [],
   "source": [
    "bhv.update_behavior({2016: {'_BE_sub': [0.3]}})\n",
    "behav = Behavior.response(calcbase, calcreform)\n",
    "behav.calc_all()"
   ]
  },
  {
   "cell_type": "code",
   "execution_count": 10,
   "metadata": {
    "collapsed": false
   },
   "outputs": [],
   "source": [
    "diffyr1 = (behav.records._combined * behav.records.s006).sum() -  (calcreform.records._combined * calcreform.records.s006).sum()"
   ]
  },
  {
   "cell_type": "code",
   "execution_count": 14,
   "metadata": {
    "collapsed": false
   },
   "outputs": [],
   "source": [
    "list1 = multiyear_diagnostic_table(calcbase, 10)"
   ]
  },
  {
   "cell_type": "code",
   "execution_count": 15,
   "metadata": {
    "collapsed": false
   },
   "outputs": [],
   "source": [
    "list2 = multiyear_diagnostic_table(behav, 10)"
   ]
  },
  {
   "cell_type": "code",
   "execution_count": 29,
   "metadata": {
    "collapsed": false
   },
   "outputs": [],
   "source": [
    "listtgt = (list1.iloc[18] - list2.iloc[18])"
   ]
  },
  {
   "cell_type": "code",
   "execution_count": 32,
   "metadata": {
    "collapsed": true
   },
   "outputs": [],
   "source": [
    "listtgt.to_csv('dummy.csv',float_format = '%1.3f',sep=',',header = True, index =True)"
   ]
  },
  {
   "cell_type": "code",
   "execution_count": 31,
   "metadata": {
    "collapsed": false
   },
   "outputs": [
    {
     "data": {
      "text/plain": [
       "2016     -1,417.0\n",
       "2017     -3,947.9\n",
       "2018     -8,060.6\n",
       "2019    -14,662.0\n",
       "2020    -25,111.3\n",
       "2021    -41,563.8\n",
       "2022    -67,260.9\n",
       "2023   -107,211.2\n",
       "2024   -169,247.4\n",
       "2025   -265,508.3\n",
       "Name: Combined liability ($b), dtype: float64"
      ]
     },
     "execution_count": 31,
     "metadata": {},
     "output_type": "execute_result"
    }
   ],
   "source": [
    "(list1.iloc[18] - list2.iloc[18])"
   ]
  },
  {
   "cell_type": "code",
   "execution_count": null,
   "metadata": {
    "collapsed": true
   },
   "outputs": [],
   "source": []
  }
 ],
 "metadata": {
  "kernelspec": {
   "display_name": "Python 2",
   "language": "python",
   "name": "python2"
  },
  "language_info": {
   "codemirror_mode": {
    "name": "ipython",
    "version": 2
   },
   "file_extension": ".py",
   "mimetype": "text/x-python",
   "name": "python",
   "nbconvert_exporter": "python",
   "pygments_lexer": "ipython2",
   "version": "2.7.12"
  }
 },
 "nbformat": 4,
 "nbformat_minor": 0
}

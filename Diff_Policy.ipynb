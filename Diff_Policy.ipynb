{
 "cells": [
  {
   "cell_type": "code",
   "execution_count": 1,
   "metadata": {
    "collapsed": true
   },
   "outputs": [],
   "source": [
    "import pandas as pd\n",
    "import numpy as np \n",
    "import sys\n",
    "sys.path.append(\"../tax-calculator\")\n",
    "from taxcalc.records import Records\n",
    "from taxcalc import Policy, Records, Calculator, Behavior, behavior\n",
    "from taxcalc.utils import *\n",
    "from numpy.testing import assert_array_almost_equal\n",
    "import matplotlib\n",
    "import matplotlib.pyplot as plt \n",
    "from matplotlib.transforms import BlendedGenericTransform\n",
    "%matplotlib inline\n",
    "import copy"
   ]
  },
  {
   "cell_type": "code",
   "execution_count": 2,
   "metadata": {
    "collapsed": false
   },
   "outputs": [
    {
     "name": "stdout",
     "output_type": "stream",
     "text": [
      "You loaded data for 2009.\n",
      "Your data have been extrapolated to 2013.\n",
      "You loaded data for 2009.\n",
      "Your data have been extrapolated to 2013.\n"
     ]
    }
   ],
   "source": [
    "puf = pd.read_csv(\"../tax-calculator/puf.csv\")\n",
    "policy_1 = Policy()\n",
    "records_1 = Records(puf)\n",
    "\n",
    "policy_2 = Policy()\n",
    "records_2 = Records(puf)\n",
    "\n",
    "calcX = Calculator(policy = policy_1, records = records_1)\n",
    "calcY = Calculator(policy = policy_2, records = records_2)"
   ]
  },
  {
   "cell_type": "code",
   "execution_count": 3,
   "metadata": {
    "collapsed": true
   },
   "outputs": [],
   "source": [
    "reform1 = {2014: {'_EITC_rt':[[0, 0, 0, 0]]\n",
    "                 ,'_EITC_prt':[[0, 0, 0, 0]]}\n",
    "          }\n",
    "policy_1.implement_reform(reform1)\n",
    "\n",
    "reform2 = {2014: {'_EITC_rt':[[0, 0, 0, 0]]},\n",
    "           2014: {'_EITC_prt':[[0, 0, 0, 0]]\n",
    "                 }\n",
    "          }\n",
    "policy_2.implement_reform(reform2)"
   ]
  },
  {
   "cell_type": "code",
   "execution_count": 4,
   "metadata": {
    "collapsed": true
   },
   "outputs": [],
   "source": [
    "calcX.advance_to_year(2014)\n",
    "calcY.advance_to_year(2014)"
   ]
  },
  {
   "cell_type": "code",
   "execution_count": 5,
   "metadata": {
    "collapsed": true
   },
   "outputs": [],
   "source": [
    "calcX.calc_all()\n",
    "calcY.calc_all()"
   ]
  },
  {
   "cell_type": "code",
   "execution_count": 6,
   "metadata": {
    "collapsed": false
   },
   "outputs": [
    {
     "data": {
      "text/html": [
       "<div>\n",
       "<table border=\"1\" class=\"dataframe\">\n",
       "  <thead>\n",
       "    <tr style=\"text-align: right;\">\n",
       "      <th></th>\n",
       "      <th>tax_cut</th>\n",
       "      <th>tax_inc</th>\n",
       "      <th>count</th>\n",
       "      <th>mean</th>\n",
       "      <th>tot_change</th>\n",
       "      <th>perc_inc</th>\n",
       "      <th>perc_cut</th>\n",
       "      <th>share_of_change</th>\n",
       "    </tr>\n",
       "  </thead>\n",
       "  <tbody>\n",
       "    <tr>\n",
       "      <th>0</th>\n",
       "      <td>302,057</td>\n",
       "      <td>0</td>\n",
       "      <td>5,040,960</td>\n",
       "      <td>-63</td>\n",
       "      <td>-319,175,273</td>\n",
       "      <td>0.00%</td>\n",
       "      <td>5.99%</td>\n",
       "      <td>0.26%</td>\n",
       "    </tr>\n",
       "    <tr>\n",
       "      <th>1</th>\n",
       "      <td>8,874,232</td>\n",
       "      <td>0</td>\n",
       "      <td>23,956,126</td>\n",
       "      <td>-351</td>\n",
       "      <td>-8,405,231,347</td>\n",
       "      <td>0.00%</td>\n",
       "      <td>37.04%</td>\n",
       "      <td>6.89%</td>\n",
       "    </tr>\n",
       "    <tr>\n",
       "      <th>2</th>\n",
       "      <td>13,008,537</td>\n",
       "      <td>0</td>\n",
       "      <td>25,491,898</td>\n",
       "      <td>-1,285</td>\n",
       "      <td>-32,763,337,315</td>\n",
       "      <td>0.00%</td>\n",
       "      <td>51.03%</td>\n",
       "      <td>26.86%</td>\n",
       "    </tr>\n",
       "    <tr>\n",
       "      <th>3</th>\n",
       "      <td>10,840,087</td>\n",
       "      <td>0</td>\n",
       "      <td>20,001,809</td>\n",
       "      <td>-1,235</td>\n",
       "      <td>-24,707,518,237</td>\n",
       "      <td>0.00%</td>\n",
       "      <td>54.20%</td>\n",
       "      <td>20.26%</td>\n",
       "    </tr>\n",
       "    <tr>\n",
       "      <th>4</th>\n",
       "      <td>9,161,111</td>\n",
       "      <td>0</td>\n",
       "      <td>16,027,563</td>\n",
       "      <td>-1,210</td>\n",
       "      <td>-19,387,531,812</td>\n",
       "      <td>0.00%</td>\n",
       "      <td>57.16%</td>\n",
       "      <td>15.90%</td>\n",
       "    </tr>\n",
       "    <tr>\n",
       "      <th>5</th>\n",
       "      <td>7,607,104</td>\n",
       "      <td>0</td>\n",
       "      <td>12,616,073</td>\n",
       "      <td>-1,034</td>\n",
       "      <td>-13,046,905,728</td>\n",
       "      <td>0.00%</td>\n",
       "      <td>60.30%</td>\n",
       "      <td>10.70%</td>\n",
       "    </tr>\n",
       "    <tr>\n",
       "      <th>6</th>\n",
       "      <td>14,474,473</td>\n",
       "      <td>0</td>\n",
       "      <td>22,650,519</td>\n",
       "      <td>-450</td>\n",
       "      <td>-10,193,163,482</td>\n",
       "      <td>0.00%</td>\n",
       "      <td>63.90%</td>\n",
       "      <td>8.36%</td>\n",
       "    </tr>\n",
       "    <tr>\n",
       "      <th>7</th>\n",
       "      <td>8,392,542</td>\n",
       "      <td>0</td>\n",
       "      <td>12,459,157</td>\n",
       "      <td>-334</td>\n",
       "      <td>-4,157,492,391</td>\n",
       "      <td>0.00%</td>\n",
       "      <td>67.36%</td>\n",
       "      <td>3.41%</td>\n",
       "    </tr>\n",
       "    <tr>\n",
       "      <th>8</th>\n",
       "      <td>14,537,654</td>\n",
       "      <td>0</td>\n",
       "      <td>19,734,934</td>\n",
       "      <td>-366</td>\n",
       "      <td>-7,218,128,298</td>\n",
       "      <td>0.00%</td>\n",
       "      <td>73.66%</td>\n",
       "      <td>5.92%</td>\n",
       "    </tr>\n",
       "    <tr>\n",
       "      <th>9</th>\n",
       "      <td>3,272,256</td>\n",
       "      <td>0</td>\n",
       "      <td>5,848,006</td>\n",
       "      <td>-277</td>\n",
       "      <td>-1,620,999,991</td>\n",
       "      <td>0.00%</td>\n",
       "      <td>55.96%</td>\n",
       "      <td>1.33%</td>\n",
       "    </tr>\n",
       "    <tr>\n",
       "      <th>10</th>\n",
       "      <td>239,032</td>\n",
       "      <td>0</td>\n",
       "      <td>904,540</td>\n",
       "      <td>-131</td>\n",
       "      <td>-118,200,813</td>\n",
       "      <td>0.00%</td>\n",
       "      <td>26.43%</td>\n",
       "      <td>0.10%</td>\n",
       "    </tr>\n",
       "    <tr>\n",
       "      <th>11</th>\n",
       "      <td>36,980</td>\n",
       "      <td>0</td>\n",
       "      <td>468,531</td>\n",
       "      <td>-39</td>\n",
       "      <td>-18,297,493</td>\n",
       "      <td>0.00%</td>\n",
       "      <td>7.89%</td>\n",
       "      <td>0.02%</td>\n",
       "    </tr>\n",
       "    <tr>\n",
       "      <th>sums</th>\n",
       "      <td>90,746,064</td>\n",
       "      <td>0</td>\n",
       "      <td>165,200,116</td>\n",
       "      <td>n/a</td>\n",
       "      <td>-121,955,982,180</td>\n",
       "      <td>n/a</td>\n",
       "      <td>n/a</td>\n",
       "      <td>100.00%</td>\n",
       "    </tr>\n",
       "  </tbody>\n",
       "</table>\n",
       "</div>"
      ],
      "text/plain": [
       "        tax_cut  tax_inc       count     mean       tot_change perc_inc  \\\n",
       "0       302,057        0   5,040,960      -63     -319,175,273    0.00%   \n",
       "1     8,874,232        0  23,956,126     -351   -8,405,231,347    0.00%   \n",
       "2    13,008,537        0  25,491,898   -1,285  -32,763,337,315    0.00%   \n",
       "3    10,840,087        0  20,001,809   -1,235  -24,707,518,237    0.00%   \n",
       "4     9,161,111        0  16,027,563   -1,210  -19,387,531,812    0.00%   \n",
       "5     7,607,104        0  12,616,073   -1,034  -13,046,905,728    0.00%   \n",
       "6    14,474,473        0  22,650,519     -450  -10,193,163,482    0.00%   \n",
       "7     8,392,542        0  12,459,157     -334   -4,157,492,391    0.00%   \n",
       "8    14,537,654        0  19,734,934     -366   -7,218,128,298    0.00%   \n",
       "9     3,272,256        0   5,848,006     -277   -1,620,999,991    0.00%   \n",
       "10      239,032        0     904,540     -131     -118,200,813    0.00%   \n",
       "11       36,980        0     468,531      -39      -18,297,493    0.00%   \n",
       "sums 90,746,064        0 165,200,116      n/a -121,955,982,180      n/a   \n",
       "\n",
       "     perc_cut share_of_change  \n",
       "0       5.99%           0.26%  \n",
       "1      37.04%           6.89%  \n",
       "2      51.03%          26.86%  \n",
       "3      54.20%          20.26%  \n",
       "4      57.16%          15.90%  \n",
       "5      60.30%          10.70%  \n",
       "6      63.90%           8.36%  \n",
       "7      67.36%           3.41%  \n",
       "8      73.66%           5.92%  \n",
       "9      55.96%           1.33%  \n",
       "10     26.43%           0.10%  \n",
       "11      7.89%           0.02%  \n",
       "sums      n/a         100.00%  "
      ]
     },
     "execution_count": 6,
     "metadata": {},
     "output_type": "execute_result"
    }
   ],
   "source": [
    "create_difference_table(calcX,calcY,'webapp_income_bins')"
   ]
  },
  {
   "cell_type": "code",
   "execution_count": null,
   "metadata": {
    "collapsed": true
   },
   "outputs": [],
   "source": []
  }
 ],
 "metadata": {
  "kernelspec": {
   "display_name": "Python 2",
   "language": "python",
   "name": "python2"
  },
  "language_info": {
   "codemirror_mode": {
    "name": "ipython",
    "version": 2
   },
   "file_extension": ".py",
   "mimetype": "text/x-python",
   "name": "python",
   "nbconvert_exporter": "python",
   "pygments_lexer": "ipython2",
   "version": "2.7.11"
  }
 },
 "nbformat": 4,
 "nbformat_minor": 0
}

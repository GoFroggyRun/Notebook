{
 "cells": [
  {
   "cell_type": "code",
   "execution_count": 1,
   "metadata": {
    "collapsed": true
   },
   "outputs": [],
   "source": [
    "import pandas as pd\n",
    "import numpy as np \n",
    "import sys\n",
    "sys.path.append(\"../tax-calculator\")\n",
    "from taxcalc.records import Records\n",
    "from taxcalc import Policy, Records, Calculator, Behavior, behavior\n",
    "from taxcalc.utils import *\n",
    "from numpy.testing import assert_array_almost_equal\n",
    "import copy\n",
    "import itertools"
   ]
  },
  {
   "cell_type": "code",
   "execution_count": 2,
   "metadata": {
    "collapsed": true
   },
   "outputs": [],
   "source": [
    "puf = pd.read_csv(\"../tax-calculator/puf.csv\")"
   ]
  },
  {
   "cell_type": "code",
   "execution_count": 3,
   "metadata": {
    "collapsed": true
   },
   "outputs": [],
   "source": [
    "reform_proposal_cd = {\n",
    "    2018: {'_ALD_StudentLoan_hc': [1],\n",
    "           '_ALD_DomesticProduction_hc': [1],\n",
    "           '_ALD_Tuition_hc': [1],\n",
    "           \"_DependentCredit_Child_c\": [600],\n",
    "           \"_DependentCredit_Nonchild_c\": [300],\n",
    "           \"_FilerCredit_c\": [[300, 600, 300, 300, 300]],\n",
    "           '_II_em':[0],\n",
    "           '_STD': [[12000, 24000, 12000, 18000, 24000]],\n",
    "           '_STD_Aged': [[0, 0, 0, 0, 0]],\n",
    "           \"_STD_Dep\": [500],\n",
    "           '_CR_SchR_hc': [1],\n",
    "           '_ID_Medical_hc': [1],\n",
    "           '_ID_StateLocalTax_hc': [1],\n",
    "           '_ID_RealEstate_c': [[10000, 10000, 10000, 10000, 10000]],\n",
    "           '_ID_Casualty_hc': [1],\n",
    "           '_ID_Miscellaneous_hc': [1],\n",
    "           '_ID_prt': [0],\n",
    "           \"_CG_brk1\":[[38600, 77200, 38600, 51700, 77200]],\n",
    "           \"_CG_brk2\":[[425800, 479000, 239500, 452400, 479000]],\n",
    "           '_II_rt1': [0.12],\n",
    "           '_II_brk1': [[45000, 90000, 45000, 67500, 90000]],\n",
    "           '_II_rt2': [0.25],\n",
    "           '_II_brk2': [[200000, 260000, 130000, 200000, 260000]],\n",
    "           '_II_rt3': [0.35],\n",
    "           '_II_brk3': [[500000, 1000000, 500000, 500000, 1000000]],\n",
    "           '_II_rt4': [0.396],\n",
    "           '_II_brk4': [[1000000, 1200000, 1000000, 1000000, 1200000]],\n",
    "           '_II_rt5': [0.456],\n",
    "           '_II_brk5': [[1207000, 1614000, 1207000, 1310500, 1614000]],\n",
    "           '_II_rt6': [0.396],\n",
    "           '_II_brk6': [[2000000, 2000000, 2000000, 2000000, 2000000]],\n",
    "           '_II_rt7': [0.396],\n",
    "           '_PT_rt1': [0.12],\n",
    "           '_PT_brk1': [[45000, 90000, 45000, 67500, 90000]],\n",
    "           '_PT_rt2': [0.25],\n",
    "           '_PT_brk2': [[200000, 260000, 130000, 200000, 260000]],\n",
    "           '_PT_rt3': [0.35],\n",
    "           '_PT_brk3': [[500000, 1000000, 500000, 500000, 1000000]],\n",
    "           '_PT_rt4': [0.396],\n",
    "           '_PT_brk4': [[1000000, 1200000, 1000000, 1000000, 1200000]],\n",
    "           '_PT_rt5': [0.456],\n",
    "           '_PT_brk5': [[1207000, 1614000, 1207000, 1310500, 1614000]],\n",
    "           '_PT_rt6': [0.396],\n",
    "           '_PT_brk6': [[2000000, 2000000, 2000000, 2000000, 2000000]],\n",
    "           '_PT_rt7': [0.396],\n",
    "           '_AMT_rt1': [0],\n",
    "           '_AMT_rt2': [0],\n",
    "           \"_LLC_Expense_c\": [0]\n",
    "        },\n",
    "    2023: { \n",
    "            \"_DependentCredit_Nonchild_c\": [0],\n",
    "            \"_FilerCredit_c\": [[0, 0, 0, 0, 0]],\n",
    "\n",
    "        }\n",
    "}"
   ]
  },
  {
   "cell_type": "code",
   "execution_count": 4,
   "metadata": {
    "collapsed": false
   },
   "outputs": [
    {
     "name": "stderr",
     "output_type": "stream",
     "text": [
      "/Users/seanwang/anaconda2/envs/taxcalc-dev/lib/python3.5/site-packages/numpy/core/numeric.py:294: FutureWarning: in the future, full((15,), 0) will return an array of dtype('int64')\n",
      "  format(shape, fill_value, array(fill_value).dtype), FutureWarning)\n",
      "/Users/seanwang/anaconda2/envs/taxcalc-dev/lib/python3.5/site-packages/numpy/core/numeric.py:294: FutureWarning: in the future, full((15,), 1) will return an array of dtype('int64')\n",
      "  format(shape, fill_value, array(fill_value).dtype), FutureWarning)\n",
      "/Users/seanwang/anaconda2/envs/taxcalc-dev/lib/python3.5/site-packages/numpy/core/numeric.py:294: FutureWarning: in the future, full((15, 5), 0) will return an array of dtype('int64')\n",
      "  format(shape, fill_value, array(fill_value).dtype), FutureWarning)\n"
     ]
    },
    {
     "name": "stdout",
     "output_type": "stream",
     "text": [
      "You loaded data for 2009.\n",
      "Tax-Calculator startup automatically extrapolated your data to 2013.\n",
      "You loaded data for 2009.\n",
      "Tax-Calculator startup automatically extrapolated your data to 2013.\n"
     ]
    }
   ],
   "source": [
    "policy_base = Policy()\n",
    "records_base = Records(puf)\n",
    "\n",
    "policy_reform = Policy()\n",
    "records_reform = Records(puf)\n",
    "policy_reform.implement_reform(reform_proposal_cd)\n",
    "\n",
    "calcbase = Calculator(policy = policy_base, records = records_base)\n",
    "calcreform = Calculator(policy = policy_reform, records = records_reform)"
   ]
  },
  {
   "cell_type": "code",
   "execution_count": 5,
   "metadata": {
    "collapsed": true
   },
   "outputs": [],
   "source": [
    "calcreform.advance_to_year(2018)\n",
    "calcbase.advance_to_year(2018)\n",
    "calcbase.calc_all()\n",
    "calcreform.calc_all()\n",
    "assert calcbase.current_year == calcreform.current_year == 2018"
   ]
  },
  {
   "cell_type": "code",
   "execution_count": 6,
   "metadata": {
    "collapsed": true
   },
   "outputs": [],
   "source": [
    "adjusted_mea = calcbase.records.expanded_income/np.sqrt(calcbase.records.XTOT)\n",
    "df = results(calcbase.records)\n",
    "df['adjusted'] = adjusted_mea\n",
    "df['age'] = calcbase.records.age_head\n",
    "df['MARS'] = calcbase.records.MARS"
   ]
  },
  {
   "cell_type": "code",
   "execution_count": 7,
   "metadata": {
    "collapsed": true
   },
   "outputs": [],
   "source": [
    "df.sort_values('adjusted', inplace=True)\n",
    "cumsum = df[(df.age<65)&(df.MARS!=1)].s006.cumsum()\n",
    "cutoff = df[(df.age<65)&(df.MARS!=1)].s006.sum() / 2.0\n",
    "median = df[(df.age<65)&(df.MARS!=1)].adjusted[cumsum >= cutoff].iloc[0]"
   ]
  },
  {
   "cell_type": "code",
   "execution_count": 8,
   "metadata": {
    "collapsed": false
   },
   "outputs": [
    {
     "data": {
      "text/plain": [
       "37547.291359579642"
      ]
     },
     "execution_count": 8,
     "metadata": {},
     "output_type": "execute_result"
    }
   ],
   "source": [
    "median"
   ]
  },
  {
   "cell_type": "code",
   "execution_count": 9,
   "metadata": {
    "collapsed": true
   },
   "outputs": [],
   "source": [
    "n_df = results(calcbase.records)\n",
    "n_df['adjusted'] = adjusted_mea\n",
    "n_df['age'] = calcbase.records.age_head\n",
    "n_df['MARS'] = calcbase.records.MARS"
   ]
  },
  {
   "cell_type": "code",
   "execution_count": 10,
   "metadata": {
    "collapsed": true
   },
   "outputs": [],
   "source": [
    "working_data_base = n_df[(n_df.adjusted>=(2/3)*median) & (n_df.adjusted<=(2)*median) & (n_df.age<65) & (n_df.MARS !=1)]"
   ]
  },
  {
   "cell_type": "code",
   "execution_count": 11,
   "metadata": {
    "collapsed": true
   },
   "outputs": [],
   "source": [
    "df_reform = results(calcreform.records)\n",
    "df_reform['adjusted'] = calcreform.records.expanded_income/np.sqrt(calcreform.records.XTOT)\n",
    "df_reform['age'] = calcreform.records.age_head\n",
    "df_reform['MARS'] = calcreform.records.MARS\n",
    "working_data_reform = df_reform.loc[working_data_base.index]"
   ]
  },
  {
   "cell_type": "code",
   "execution_count": 12,
   "metadata": {
    "collapsed": true
   },
   "outputs": [],
   "source": [
    "working_data_reform['tax_cut_flag'] = (working_data_base.combined > working_data_reform.combined)*1 + (working_data_base.combined == working_data_reform.combined)*0+ (working_data_base.combined < working_data_reform.combined)*(-1)"
   ]
  },
  {
   "cell_type": "code",
   "execution_count": 13,
   "metadata": {
    "collapsed": false
   },
   "outputs": [
    {
     "data": {
      "text/plain": [
       "0.72939970357582407"
      ]
     },
     "execution_count": 13,
     "metadata": {},
     "output_type": "execute_result"
    }
   ],
   "source": [
    "working_data_reform[working_data_reform.tax_cut_flag == 1].s006.sum()/working_data_reform.s006.sum()"
   ]
  },
  {
   "cell_type": "code",
   "execution_count": 14,
   "metadata": {
    "collapsed": false
   },
   "outputs": [
    {
     "data": {
      "text/plain": [
       "0.2117223195537708"
      ]
     },
     "execution_count": 14,
     "metadata": {},
     "output_type": "execute_result"
    }
   ],
   "source": [
    "working_data_reform[working_data_reform.tax_cut_flag == -1].s006.sum()/working_data_reform.s006.sum()"
   ]
  },
  {
   "cell_type": "code",
   "execution_count": 15,
   "metadata": {
    "collapsed": true
   },
   "outputs": [],
   "source": [
    "full_base = n_df\n",
    "full_reform = df_reform\n",
    "full_reform['tax_cut_flag'] = (full_base.combined > full_reform.combined)*1 + (full_base.combined == full_reform.combined)*0+ (full_base.combined < full_reform.combined)*(-1)"
   ]
  },
  {
   "cell_type": "code",
   "execution_count": 17,
   "metadata": {
    "collapsed": false
   },
   "outputs": [
    {
     "data": {
      "text/plain": [
       "0.47645641272187034"
      ]
     },
     "execution_count": 17,
     "metadata": {},
     "output_type": "execute_result"
    }
   ],
   "source": [
    "full_reform[full_reform.tax_cut_flag == 1].s006.sum()/full_reform.s006.sum()"
   ]
  },
  {
   "cell_type": "code",
   "execution_count": 18,
   "metadata": {
    "collapsed": false
   },
   "outputs": [
    {
     "data": {
      "text/plain": [
       "0.19146052704737559"
      ]
     },
     "execution_count": 18,
     "metadata": {},
     "output_type": "execute_result"
    }
   ],
   "source": [
    "full_reform[full_reform.tax_cut_flag == -1].s006.sum()/full_reform.s006.sum()"
   ]
  },
  {
   "cell_type": "code",
   "execution_count": 19,
   "metadata": {
    "collapsed": false
   },
   "outputs": [
    {
     "data": {
      "text/plain": [
       "0.15660779504100775"
      ]
     },
     "execution_count": 19,
     "metadata": {},
     "output_type": "execute_result"
    }
   ],
   "source": [
    "working_data_reform.s006.sum()/full_reform.s006.sum()"
   ]
  },
  {
   "cell_type": "code",
   "execution_count": 20,
   "metadata": {
    "collapsed": true
   },
   "outputs": [],
   "source": [
    "working_data_base_itm = n_df[(n_df.adjusted>=(2/3)*median) & (n_df.adjusted<=(2)*median) & (n_df.age<65) & (n_df.MARS !=1)&(n_df.standard ==0)]"
   ]
  },
  {
   "cell_type": "code",
   "execution_count": 21,
   "metadata": {
    "collapsed": true
   },
   "outputs": [],
   "source": [
    "working_data_reform_itm = df_reform.loc[working_data_base_itm.index]"
   ]
  },
  {
   "cell_type": "code",
   "execution_count": 22,
   "metadata": {
    "collapsed": true
   },
   "outputs": [],
   "source": [
    "working_data_reform_itm['tax_cut_flag'] = (working_data_base_itm.combined > working_data_reform_itm.combined)*1 + (working_data_base_itm.combined == working_data_reform_itm.combined)*0+ (working_data_base_itm.combined < working_data_reform_itm.combined)*(-1)"
   ]
  },
  {
   "cell_type": "code",
   "execution_count": 23,
   "metadata": {
    "collapsed": false
   },
   "outputs": [
    {
     "data": {
      "text/plain": [
       "0.50653266679775988"
      ]
     },
     "execution_count": 23,
     "metadata": {},
     "output_type": "execute_result"
    }
   ],
   "source": [
    "working_data_reform_itm[working_data_reform_itm.tax_cut_flag == 1].s006.sum()/working_data_reform_itm.s006.sum()"
   ]
  },
  {
   "cell_type": "code",
   "execution_count": null,
   "metadata": {
    "collapsed": true
   },
   "outputs": [],
   "source": []
  },
  {
   "cell_type": "code",
   "execution_count": 25,
   "metadata": {
    "collapsed": true
   },
   "outputs": [],
   "source": [
    "calcreform.advance_to_year(2026)\n",
    "calcbase.advance_to_year(2026)\n",
    "calcbase.calc_all()\n",
    "calcreform.calc_all()\n",
    "assert calcbase.current_year == calcreform.current_year == 2026"
   ]
  },
  {
   "cell_type": "code",
   "execution_count": 26,
   "metadata": {
    "collapsed": true
   },
   "outputs": [],
   "source": [
    "adjusted_mea = calcbase.records.expanded_income/np.sqrt(calcbase.records.XTOT)\n",
    "df = results(calcbase.records)\n",
    "df['adjusted'] = adjusted_mea\n",
    "df['age'] = calcbase.records.age_head\n",
    "df['MARS'] = calcbase.records.MARS"
   ]
  },
  {
   "cell_type": "code",
   "execution_count": 27,
   "metadata": {
    "collapsed": true
   },
   "outputs": [],
   "source": [
    "df.sort_values('adjusted', inplace=True)\n",
    "cumsum = df[(df.age<65)&(df.MARS!=1)].s006.cumsum()\n",
    "cutoff = df[(df.age<65)&(df.MARS!=1)].s006.sum() / 2.0\n",
    "median = df[(df.age<65)&(df.MARS!=1)].adjusted[cumsum >= cutoff].iloc[0]"
   ]
  },
  {
   "cell_type": "code",
   "execution_count": 28,
   "metadata": {
    "collapsed": false
   },
   "outputs": [
    {
     "data": {
      "text/plain": [
       "47550.085434022796"
      ]
     },
     "execution_count": 28,
     "metadata": {},
     "output_type": "execute_result"
    }
   ],
   "source": [
    "median"
   ]
  },
  {
   "cell_type": "code",
   "execution_count": 29,
   "metadata": {
    "collapsed": true
   },
   "outputs": [],
   "source": [
    "n_df = results(calcbase.records)\n",
    "n_df['adjusted'] = adjusted_mea\n",
    "n_df['age'] = calcbase.records.age_head\n",
    "n_df['MARS'] = calcbase.records.MARS"
   ]
  },
  {
   "cell_type": "code",
   "execution_count": 30,
   "metadata": {
    "collapsed": true
   },
   "outputs": [],
   "source": [
    "working_data_base = n_df[(n_df.adjusted>=(2/3)*median) & (n_df.adjusted<=(2)*median) & (n_df.age<65) & (n_df.MARS !=1)]"
   ]
  },
  {
   "cell_type": "code",
   "execution_count": 31,
   "metadata": {
    "collapsed": true
   },
   "outputs": [],
   "source": [
    "df_reform = results(calcreform.records)\n",
    "df_reform['adjusted'] = calcreform.records.expanded_income/np.sqrt(calcreform.records.XTOT)\n",
    "df_reform['age'] = calcreform.records.age_head\n",
    "df_reform['MARS'] = calcreform.records.MARS\n",
    "working_data_reform = df_reform.loc[working_data_base.index]"
   ]
  },
  {
   "cell_type": "code",
   "execution_count": 34,
   "metadata": {
    "collapsed": false
   },
   "outputs": [],
   "source": [
    "working_data_reform['tax_cut_flag'] = (working_data_base.combined > working_data_reform.combined)*1 + (working_data_base.combined == working_data_reform.combined)*0+ (working_data_base.combined < working_data_reform.combined)*(-1)"
   ]
  },
  {
   "cell_type": "code",
   "execution_count": 35,
   "metadata": {
    "collapsed": false
   },
   "outputs": [
    {
     "data": {
      "text/plain": [
       "0.58202033493288075"
      ]
     },
     "execution_count": 35,
     "metadata": {},
     "output_type": "execute_result"
    }
   ],
   "source": [
    "working_data_reform[working_data_reform.tax_cut_flag == 1].s006.sum()/working_data_reform.s006.sum()"
   ]
  },
  {
   "cell_type": "code",
   "execution_count": 36,
   "metadata": {
    "collapsed": false
   },
   "outputs": [
    {
     "data": {
      "text/plain": [
       "0.36000243889938593"
      ]
     },
     "execution_count": 36,
     "metadata": {},
     "output_type": "execute_result"
    }
   ],
   "source": [
    "working_data_reform[working_data_reform.tax_cut_flag == -1].s006.sum()/working_data_reform.s006.sum()"
   ]
  },
  {
   "cell_type": "code",
   "execution_count": 37,
   "metadata": {
    "collapsed": true
   },
   "outputs": [],
   "source": [
    "full_base = n_df\n",
    "full_reform = df_reform\n",
    "full_reform['tax_cut_flag'] = (full_base.combined > full_reform.combined)*1 + (full_base.combined == full_reform.combined)*0+ (full_base.combined < full_reform.combined)*(-1)"
   ]
  },
  {
   "cell_type": "code",
   "execution_count": 38,
   "metadata": {
    "collapsed": false
   },
   "outputs": [
    {
     "data": {
      "text/plain": [
       "0.39391871761781339"
      ]
     },
     "execution_count": 38,
     "metadata": {},
     "output_type": "execute_result"
    }
   ],
   "source": [
    "full_reform[full_reform.tax_cut_flag == 1].s006.sum()/full_reform.s006.sum()"
   ]
  },
  {
   "cell_type": "code",
   "execution_count": 41,
   "metadata": {
    "collapsed": false
   },
   "outputs": [
    {
     "data": {
      "text/plain": [
       "0.28571648834765828"
      ]
     },
     "execution_count": 41,
     "metadata": {},
     "output_type": "execute_result"
    }
   ],
   "source": [
    "full_reform[full_reform.tax_cut_flag == -1].s006.sum()/full_reform.s006.sum()"
   ]
  },
  {
   "cell_type": "code",
   "execution_count": 40,
   "metadata": {
    "collapsed": true
   },
   "outputs": [],
   "source": [
    "working_data_base_itm = n_df[(n_df.adjusted>=(2/3)*median) & (n_df.adjusted<=(2)*median) & (n_df.age<65) & (n_df.MARS !=1)&(n_df.standard ==0)]"
   ]
  },
  {
   "cell_type": "code",
   "execution_count": 42,
   "metadata": {
    "collapsed": true
   },
   "outputs": [],
   "source": [
    "working_data_reform_itm = df_reform.loc[working_data_base_itm.index]"
   ]
  },
  {
   "cell_type": "code",
   "execution_count": 43,
   "metadata": {
    "collapsed": true
   },
   "outputs": [],
   "source": [
    "working_data_reform_itm['tax_cut_flag'] = (working_data_base_itm.combined > working_data_reform_itm.combined)*1 + (working_data_base_itm.combined == working_data_reform_itm.combined)*0+ (working_data_base_itm.combined < working_data_reform_itm.combined)*(-1)"
   ]
  },
  {
   "cell_type": "code",
   "execution_count": 44,
   "metadata": {
    "collapsed": false
   },
   "outputs": [
    {
     "data": {
      "text/plain": [
       "0.25218402626493497"
      ]
     },
     "execution_count": 44,
     "metadata": {},
     "output_type": "execute_result"
    }
   ],
   "source": [
    "working_data_reform_itm[working_data_reform_itm.tax_cut_flag == 1].s006.sum()/working_data_reform_itm.s006.sum()"
   ]
  },
  {
   "cell_type": "code",
   "execution_count": null,
   "metadata": {
    "collapsed": true
   },
   "outputs": [],
   "source": []
  }
 ],
 "metadata": {
  "kernelspec": {
   "display_name": "Python 3",
   "language": "python",
   "name": "python3"
  },
  "language_info": {
   "codemirror_mode": {
    "name": "ipython",
    "version": 3
   },
   "file_extension": ".py",
   "mimetype": "text/x-python",
   "name": "python",
   "nbconvert_exporter": "python",
   "pygments_lexer": "ipython3",
   "version": "3.5.2"
  }
 },
 "nbformat": 4,
 "nbformat_minor": 1
}
